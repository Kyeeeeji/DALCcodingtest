{
  "nbformat": 4,
  "nbformat_minor": 0,
  "metadata": {
    "colab": {
      "name": "코테1주차_김예지.ipynb",
      "provenance": [],
      "collapsed_sections": [],
      "toc_visible": true
    },
    "kernelspec": {
      "name": "python3",
      "display_name": "Python 3"
    }
  },
  "cells": [
    {
      "cell_type": "markdown",
      "metadata": {
        "id": "r9PtDurcfnsW"
      },
      "source": [
        "# 2. 프로그래밍 언어 선택"
      ]
    },
    {
      "cell_type": "markdown",
      "metadata": {
        "id": "ZOWvykgdjkFb"
      },
      "source": [
        "## 리스트 2-1 수도코드(Pseudocode) 예제  \r\n",
        "### 53p\r\n"
      ]
    },
    {
      "cell_type": "code",
      "metadata": {
        "id": "kskHtv6lg32V",
        "colab": {
          "base_uri": "https://localhost:8080/",
          "height": 134
        },
        "outputId": "d7b15325-439e-4f9c-e076-83d833dffc07"
      },
      "source": [
        "함수 fizzbuzz()\r\n",
        "  for i=1 to 100\r\n",
        "    print_number = True\r\n",
        "\r\n",
        "    if i is 3으로 나눌 수 있다면\r\n",
        "      print \"Fizz\"\r\n",
        "      print_number = False\r\n",
        "\r\n",
        "    if i is 5로 나눌 수 있다면\r\n",
        "      print \"Buzz\"\r\n",
        "      print_number = False\r\n",
        "\r\n",
        "    if print_number = True\r\n",
        "      print i\r\n",
        "      \r\n",
        "    print 빈 줄"
      ],
      "execution_count": 1,
      "outputs": [
        {
          "output_type": "error",
          "ename": "SyntaxError",
          "evalue": "ignored",
          "traceback": [
            "\u001b[0;36m  File \u001b[0;32m\"<ipython-input-1-58324357d1b3>\"\u001b[0;36m, line \u001b[0;32m1\u001b[0m\n\u001b[0;31m    함수 fizzbuzz()\u001b[0m\n\u001b[0m              ^\u001b[0m\n\u001b[0;31mSyntaxError\u001b[0m\u001b[0;31m:\u001b[0m invalid syntax\n"
          ]
        }
      ]
    },
    {
      "cell_type": "markdown",
      "metadata": {
        "id": "wFyxjaSckl7y"
      },
      "source": [
        "## 루프(1부터 10까지의 합 구하기)  \r\n",
        "### 56p  \r\n"
      ]
    },
    {
      "cell_type": "code",
      "metadata": {
        "id": "hNdFIh6Kk69k",
        "colab": {
          "base_uri": "https://localhost:8080/"
        },
        "outputId": "a4712e62-5f80-415e-f2c3-52f3860f1e21"
      },
      "source": [
        "# 예시1\r\n",
        "sum = 0\r\n",
        "for i in range (1, 10+1):\r\n",
        "  sum += i\r\n",
        "sum"
      ],
      "execution_count": 2,
      "outputs": [
        {
          "output_type": "execute_result",
          "data": {
            "text/plain": [
              "55"
            ]
          },
          "metadata": {
            "tags": []
          },
          "execution_count": 2
        }
      ]
    },
    {
      "cell_type": "code",
      "metadata": {
        "id": "rPLy0hUylcor",
        "colab": {
          "base_uri": "https://localhost:8080/"
        },
        "outputId": "2a743e65-cb76-4f1d-d35c-afed72554de5"
      },
      "source": [
        "# 예시2\r\n",
        "del sum\r\n",
        "sum = sum(i for i in range(1, 10+1))\r\n",
        "sum"
      ],
      "execution_count": 3,
      "outputs": [
        {
          "output_type": "execute_result",
          "data": {
            "text/plain": [
              "55"
            ]
          },
          "metadata": {
            "tags": []
          },
          "execution_count": 3
        }
      ]
    },
    {
      "cell_type": "code",
      "metadata": {
        "id": "cH45kOkIqv41",
        "colab": {
          "base_uri": "https://localhost:8080/"
        },
        "outputId": "7d60d9dd-ac53-4f0d-c285-a70dd2b91732"
      },
      "source": [
        "# 예시3\r\n",
        "del sum\r\n",
        "sum = sum(range(1, 10+1))\r\n",
        "sum"
      ],
      "execution_count": 4,
      "outputs": [
        {
          "output_type": "execute_result",
          "data": {
            "text/plain": [
              "55"
            ]
          },
          "metadata": {
            "tags": []
          },
          "execution_count": 4
        }
      ]
    },
    {
      "cell_type": "markdown",
      "metadata": {
        "id": "n46J4yGvq_Bq"
      },
      "source": [
        "## 제네릭 프로그래밍  \r\n",
        "### 58p  \r\n"
      ]
    },
    {
      "cell_type": "code",
      "metadata": {
        "colab": {
          "base_uri": "https://localhost:8080/"
        },
        "id": "NmlI4bKRruP6",
        "outputId": "8b52680c-3cfe-4516-cba8-a40c51882761"
      },
      "source": [
        "def are_equal(a, b):\r\n",
        "  return a == b\r\n",
        "\r\n",
        "are_equal(10, 10.0)"
      ],
      "execution_count": 5,
      "outputs": [
        {
          "output_type": "execute_result",
          "data": {
            "text/plain": [
              "True"
            ]
          },
          "metadata": {
            "tags": []
          },
          "execution_count": 5
        }
      ]
    },
    {
      "cell_type": "code",
      "metadata": {
        "colab": {
          "base_uri": "https://localhost:8080/"
        },
        "id": "WDfu4zbjsBOI",
        "outputId": "6a8ca4bb-0ed7-4c48-cc46-6c5ffb75abf0"
      },
      "source": [
        "# Dynamic Typing 언어라 제네릭이 필요없으나 가독성을 위해 타입을 명시할 수 있다. 3장 76p\r\n",
        "from typing import TypeVar\r\n",
        "\r\n",
        "T = TypeVar('T')\r\n",
        "U = TypeVar('U')\r\n",
        "\r\n",
        "def are_equal(a: T, b: U) -> bool:\r\n",
        "   return a == b\r\n",
        "\r\n",
        "are_equal(10,10.0)"
      ],
      "execution_count": 6,
      "outputs": [
        {
          "output_type": "execute_result",
          "data": {
            "text/plain": [
              "True"
            ]
          },
          "metadata": {
            "tags": []
          },
          "execution_count": 6
        }
      ]
    },
    {
      "cell_type": "markdown",
      "metadata": {
        "id": "RD1PQTJOtCrJ"
      },
      "source": [
        "## 배열 반복(문자열 배열(list)를 반복하면서 엘리먼트 출력)  \r\n",
        "### 60p  \r\n",
        "\r\n"
      ]
    },
    {
      "cell_type": "code",
      "metadata": {
        "colab": {
          "base_uri": "https://localhost:8080/"
        },
        "id": "IDC7H3CLuPxg",
        "outputId": "24ec2798-8d30-4846-ad30-593f9e68b38c"
      },
      "source": [
        "foo = ['A', 'B', 'C']\r\n",
        "for f in foo:\r\n",
        "   print(f)"
      ],
      "execution_count": 7,
      "outputs": [
        {
          "output_type": "stream",
          "text": [
            "A\n",
            "B\n",
            "C\n"
          ],
          "name": "stdout"
        }
      ]
    },
    {
      "cell_type": "markdown",
      "metadata": {
        "id": "p67on8rsu_0o"
      },
      "source": [
        "## 구조체  \r\n",
        "### 61p~62p  \r\n"
      ]
    },
    {
      "cell_type": "code",
      "metadata": {
        "id": "_-a-G6e1u6iU"
      },
      "source": [
        "from collections import namedtuple\r\n",
        "MyStruct = namedtuple(\"MyStruct\", \"field1 field2 field3\")\r\n",
        "m = MyStruct(\"foo\", \"bar\", \"baz\")\r\n",
        "\r\n",
        "# 파이썬에는 구조체가 없고 클래스도 데이터 타입을 지정할 수 없어 namedtuple로 정의함"
      ],
      "execution_count": 8,
      "outputs": []
    },
    {
      "cell_type": "code",
      "metadata": {
        "id": "8yma94d0v9pS"
      },
      "source": [
        "# python 3.7+\r\n",
        "from dataclasses import dataclass\r\n",
        "\r\n",
        "@dataclass\r\n",
        "class Product:\r\n",
        "    weight: int = None\r\n",
        "    price: float = None\r\n",
        "\r\n",
        "apple = Product()\r\n",
        "apple.price = 10\r\n",
        "\r\n",
        "# python 3.7 부터는 dataclass를 지원\r\n",
        "# @dataclass 데코레이션으로 타입 힌트와 함께 활용함으로써 구조체 형태로 정의할 수 있음\r\n",
        "# 초기화함수 지원, 출력 시 읽기 쉬운 포맷으로 출력\r\n",
        "# 3.6 이하 버전에서도 Backport 버전을 제공하므로 $pip install dataclasses 로 설치해 사용할 수 있다."
      ],
      "execution_count": 9,
      "outputs": []
    },
    {
      "cell_type": "markdown",
      "metadata": {
        "id": "edLilhy6x32S"
      },
      "source": [
        "## 클래스  \r\n",
        "### 64p~65p  \r\n"
      ]
    },
    {
      "cell_type": "code",
      "metadata": {
        "colab": {
          "base_uri": "https://localhost:8080/"
        },
        "id": "nc__NnaEyDva",
        "outputId": "b53596a6-e076-4deb-9dc4-4dc07f660b54"
      },
      "source": [
        "from dataclasses import dataclass\r\n",
        "\r\n",
        "@dataclass\r\n",
        "class Rectangle:\r\n",
        "    width: int\r\n",
        "    height: int\r\n",
        "\r\n",
        "    def area(self):\r\n",
        "        return self.width * self.height\r\n",
        "\r\n",
        "rect = Rectangle(3, 4)\r\n",
        "print(rect.area())\r\n",
        "\r\n",
        "# 실무에서는 자주 쓰이는데 코테에서는 잘 안 쓰인다.\r\n",
        "# @dataclass 선언은 필수는 아니지만 여러 내부함수 기능도 자동으로 구현해줘서 편리함"
      ],
      "execution_count": 10,
      "outputs": [
        {
          "output_type": "stream",
          "text": [
            "12\n"
          ],
          "name": "stdout"
        }
      ]
    },
    {
      "cell_type": "markdown",
      "metadata": {
        "id": "f5h5HqBM2afT"
      },
      "source": [
        "## 인덴트  \r\n",
        "### 76p~77p  \r\n"
      ]
    },
    {
      "cell_type": "code",
      "metadata": {
        "id": "YKXBJFq62o3E",
        "colab": {
          "base_uri": "https://localhost:8080/",
          "height": 239
        },
        "outputId": "e36bd6aa-2631-48dd-95cd-56cc84b689e5"
      },
      "source": [
        "foo = long_function_name(var_one, var_two,\r\n",
        "                         var_three, var_four)\r\n",
        "# 첫번째 줄에 파라미터가 있으면 파라미터가 시작되는 부분에 보기 좋게\r\n",
        "\r\n",
        "def long_function_name(\r\n",
        "        var_one, var_two, var_three, \r\n",
        "        var_four):\r\n",
        "    print(var_one)\r\n",
        "# 없으면 공백 4칸 인덴트를 한 번 더 추가해 다른 행과 구분\r\n",
        "\r\n",
        "foo = long_function_name(\r\n",
        "    var_one, var_two,\r\n",
        "    var_three, var_four)\r\n",
        "# 여러 줄로 나워쓸 경우 다음 행과 구분되도록 인덴트 추가"
      ],
      "execution_count": 11,
      "outputs": [
        {
          "output_type": "error",
          "ename": "NameError",
          "evalue": "ignored",
          "traceback": [
            "\u001b[0;31m---------------------------------------------------------------------------\u001b[0m",
            "\u001b[0;31mNameError\u001b[0m                                 Traceback (most recent call last)",
            "\u001b[0;32m<ipython-input-11-84bce669659c>\u001b[0m in \u001b[0;36m<module>\u001b[0;34m()\u001b[0m\n\u001b[0;32m----> 1\u001b[0;31m foo = long_function_name(var_one, var_two,\n\u001b[0m\u001b[1;32m      2\u001b[0m                          var_three, var_four)\n\u001b[1;32m      3\u001b[0m \u001b[0;31m# 첫번째 줄에 파라미터가 있으면 파라미터가 시작되는 부분에 보기 좋게\u001b[0m\u001b[0;34m\u001b[0m\u001b[0;34m\u001b[0m\u001b[0;34m\u001b[0m\u001b[0m\n\u001b[1;32m      4\u001b[0m \u001b[0;34m\u001b[0m\u001b[0m\n\u001b[1;32m      5\u001b[0m def long_function_name(\n",
            "\u001b[0;31mNameError\u001b[0m: name 'long_function_name' is not defined"
          ]
        }
      ]
    },
    {
      "cell_type": "markdown",
      "metadata": {
        "id": "h0fn_oii4MhY"
      },
      "source": [
        "## 타입힌트  \r\n",
        "### 79p~80p  \r\n"
      ]
    },
    {
      "cell_type": "code",
      "metadata": {
        "id": "jsXWmuOu5fLI"
      },
      "source": [
        "a: str = \"1\"\r\n",
        "b: int = 1\r\n",
        "\r\n",
        "# 대표적 동적 타이핑 언어임에도 PEP 484 문서에 타입을 지정하는 Type Hint 추가됨"
      ],
      "execution_count": 12,
      "outputs": []
    },
    {
      "cell_type": "code",
      "metadata": {
        "colab": {
          "base_uri": "https://localhost:8080/"
        },
        "id": "mNC0lCvm59WE",
        "outputId": "20a47229-aba6-48b5-99a9-5b921840d9b8"
      },
      "source": [
        "# def fn(a):\r\n",
        "# 처럼 표기하면 빠르나 가독성 떨어지며 오류 발생할 수 있음. 입출력값 유형 알 수 없음. 따라서\r\n",
        "# def fn(a: int) -> bool:\r\n",
        "# 와 같이 입출력값의 유형을 알 수 있음. \r\n",
        "a: str = 1\r\n",
        "type(a)"
      ],
      "execution_count": 13,
      "outputs": [
        {
          "output_type": "execute_result",
          "data": {
            "text/plain": [
              "int"
            ]
          },
          "metadata": {
            "tags": []
          },
          "execution_count": 13
        }
      ]
    },
    {
      "cell_type": "code",
      "metadata": {
        "id": "CDrP3KtO6wE6"
      },
      "source": [
        "# 그러나 위와 같이 문자열에 정수를 할당하는 식의 사용은 지양해야 함. 강제 규약이 아니다 보니 동적으로 할당될 수 있음.\r\n",
        "# 온라인 코테에서는 $ pip install mypy 로 mypy를 설치해 타입 힌트 오류 점검할 수 있다. "
      ],
      "execution_count": 14,
      "outputs": []
    },
    {
      "cell_type": "code",
      "metadata": {
        "id": "sCr16mPY7Gpz"
      },
      "source": [
        "# $ pip install mypy\r\n",
        "# $ mypy solution.py\r\n",
        "# 타입 힌트가 잘못 지정되면 Incompatible return value type 오류가 발생함."
      ],
      "execution_count": 15,
      "outputs": []
    },
    {
      "cell_type": "markdown",
      "metadata": {
        "id": "alNB08X68eHd"
      },
      "source": [
        "## 리스트 컴프리헨션(기존 list를 기반으로 새 list 생성)  \r\n",
        "### 80p~81p"
      ]
    },
    {
      "cell_type": "code",
      "metadata": {
        "colab": {
          "base_uri": "https://localhost:8080/"
        },
        "id": "h9nzeXGI7gco",
        "outputId": "d96ceab4-a6a6-4efc-e86f-62e205f5e412"
      },
      "source": [
        "list(map(lambda x: x + 10, [1, 2, 3]))\r\n",
        "# map, filter와 같은 함수형 기능을 지원하며 위와 같은 람다 표현식도 지원."
      ],
      "execution_count": 16,
      "outputs": [
        {
          "output_type": "execute_result",
          "data": {
            "text/plain": [
              "[11, 12, 13]"
            ]
          },
          "metadata": {
            "tags": []
          },
          "execution_count": 16
        }
      ]
    },
    {
      "cell_type": "code",
      "metadata": {
        "colab": {
          "base_uri": "https://localhost:8080/"
        },
        "id": "M_IlLZAr8ocF",
        "outputId": "e04983cf-97ad-4383-935b-19fd18899dad"
      },
      "source": [
        "# 리스트 컴프리헨션 사용하면\r\n",
        "[n * 2 for n in range(1, 10 + 1) if n % 2 == 1]"
      ],
      "execution_count": 17,
      "outputs": [
        {
          "output_type": "execute_result",
          "data": {
            "text/plain": [
              "[2, 6, 10, 14, 18]"
            ]
          },
          "metadata": {
            "tags": []
          },
          "execution_count": 17
        }
      ]
    },
    {
      "cell_type": "code",
      "metadata": {
        "colab": {
          "base_uri": "https://localhost:8080/"
        },
        "id": "Pne7xGde9d9l",
        "outputId": "d32f21c7-22d0-438d-8cab-de15c321777a"
      },
      "source": [
        "# 리스트 컴프리헨션 사용하지 않으면\r\n",
        "\r\n",
        "a = []\r\n",
        "for n in range(1, 10 + 1):\r\n",
        "    if n % 2 == 1:\r\n",
        "        a.append(n * 2)\r\n",
        "        \r\n",
        "a\r\n",
        "# 길고, a라는 별도의 리스트 변수 추가됨."
      ],
      "execution_count": 18,
      "outputs": [
        {
          "output_type": "execute_result",
          "data": {
            "text/plain": [
              "[2, 6, 10, 14, 18]"
            ]
          },
          "metadata": {
            "tags": []
          },
          "execution_count": 18
        }
      ]
    },
    {
      "cell_type": "code",
      "metadata": {
        "colab": {
          "base_uri": "https://localhost:8080/",
          "height": 239
        },
        "id": "bEXqkmiS9eer",
        "outputId": "22610b38-4461-4f0e-e7a6-45802a86848c"
      },
      "source": [
        "# 버전 2.7 이후에는 리스트 외에도 딕셔너리 등도 가능\r\n",
        "a = {key: value for key, value in original.items()}\r\n",
        "\r\n",
        "# 기존 정의 코드\r\n",
        "a = {}\r\n",
        "for key, value in original.items():\r\n",
        "    a[key] = value\r\n",
        "\r\n",
        "# 표현식이 2개를 넘으면 가독성 떨어짐"
      ],
      "execution_count": 19,
      "outputs": [
        {
          "output_type": "error",
          "ename": "NameError",
          "evalue": "ignored",
          "traceback": [
            "\u001b[0;31m---------------------------------------------------------------------------\u001b[0m",
            "\u001b[0;31mNameError\u001b[0m                                 Traceback (most recent call last)",
            "\u001b[0;32m<ipython-input-19-99ee57320ae1>\u001b[0m in \u001b[0;36m<module>\u001b[0;34m()\u001b[0m\n\u001b[1;32m      1\u001b[0m \u001b[0;31m# 버전 2.7 이후에는 리스트 외에도 딕셔너리 등도 가능\u001b[0m\u001b[0;34m\u001b[0m\u001b[0;34m\u001b[0m\u001b[0;34m\u001b[0m\u001b[0m\n\u001b[0;32m----> 2\u001b[0;31m \u001b[0ma\u001b[0m \u001b[0;34m=\u001b[0m \u001b[0;34m{\u001b[0m\u001b[0mkey\u001b[0m\u001b[0;34m:\u001b[0m \u001b[0mvalue\u001b[0m \u001b[0;32mfor\u001b[0m \u001b[0mkey\u001b[0m\u001b[0;34m,\u001b[0m \u001b[0mvalue\u001b[0m \u001b[0;32min\u001b[0m \u001b[0moriginal\u001b[0m\u001b[0;34m.\u001b[0m\u001b[0mitems\u001b[0m\u001b[0;34m(\u001b[0m\u001b[0;34m)\u001b[0m\u001b[0;34m}\u001b[0m\u001b[0;34m\u001b[0m\u001b[0;34m\u001b[0m\u001b[0m\n\u001b[0m\u001b[1;32m      3\u001b[0m \u001b[0;34m\u001b[0m\u001b[0m\n\u001b[1;32m      4\u001b[0m \u001b[0;31m# 기존 정의 코드\u001b[0m\u001b[0;34m\u001b[0m\u001b[0;34m\u001b[0m\u001b[0;34m\u001b[0m\u001b[0m\n\u001b[1;32m      5\u001b[0m \u001b[0ma\u001b[0m \u001b[0;34m=\u001b[0m \u001b[0;34m{\u001b[0m\u001b[0;34m}\u001b[0m\u001b[0;34m\u001b[0m\u001b[0;34m\u001b[0m\u001b[0m\n",
            "\u001b[0;31mNameError\u001b[0m: name 'original' is not defined"
          ]
        }
      ]
    },
    {
      "cell_type": "markdown",
      "metadata": {
        "id": "cqrjOad1-Xgo"
      },
      "source": [
        "## 제너레이터(루프의 반복Iteration 동작을 제어할 수 있는 루틴 형태)  \r\n",
        "### 82p~83p"
      ]
    },
    {
      "cell_type": "code",
      "metadata": {
        "colab": {
          "base_uri": "https://localhost:8080/"
        },
        "id": "rD7ojald-QCv",
        "outputId": "07553f7c-134f-427c-d609-437e21f45ea2"
      },
      "source": [
        "# 기존 함수는 return 구문을 만나면 값을 반환하고 동작을 종료했음\r\n",
        "# yield 구문으로 제너레이터를 리턴할 수 있음(실행 중이던 값 양보?)\r\n",
        "# 중간값 반환 후 함수는 끝까지 실행됨\r\n",
        "\r\n",
        "def get_natural_number():\r\n",
        "    n = 0\r\n",
        "    while True:\r\n",
        "        n += 1\r\n",
        "        yield n\r\n",
        "\r\n",
        "get_natural_number()\r\n",
        "\r\n",
        "# 이 경우처럼 while True 구문은 종료 조건이 없으므로 계속해서 값을 내보낼 수 있다\r\n",
        "# 반환값이 제너레이터"
      ],
      "execution_count": 20,
      "outputs": [
        {
          "output_type": "execute_result",
          "data": {
            "text/plain": [
              "<generator object get_natural_number at 0x7fd868c92f50>"
            ]
          },
          "metadata": {
            "tags": []
          },
          "execution_count": 20
        }
      ]
    },
    {
      "cell_type": "code",
      "metadata": {
        "colab": {
          "base_uri": "https://localhost:8080/"
        },
        "id": "ze3aa1rb_8_r",
        "outputId": "6fd3b35d-256c-45c7-c27c-76e2322cf249"
      },
      "source": [
        "# 다음 값은 next() 추출해 생성함\r\n",
        "\r\n",
        "g = get_natural_number()\r\n",
        "for _ in range(0,100):\r\n",
        "    print(next(g))"
      ],
      "execution_count": 21,
      "outputs": [
        {
          "output_type": "stream",
          "text": [
            "1\n",
            "2\n",
            "3\n",
            "4\n",
            "5\n",
            "6\n",
            "7\n",
            "8\n",
            "9\n",
            "10\n",
            "11\n",
            "12\n",
            "13\n",
            "14\n",
            "15\n",
            "16\n",
            "17\n",
            "18\n",
            "19\n",
            "20\n",
            "21\n",
            "22\n",
            "23\n",
            "24\n",
            "25\n",
            "26\n",
            "27\n",
            "28\n",
            "29\n",
            "30\n",
            "31\n",
            "32\n",
            "33\n",
            "34\n",
            "35\n",
            "36\n",
            "37\n",
            "38\n",
            "39\n",
            "40\n",
            "41\n",
            "42\n",
            "43\n",
            "44\n",
            "45\n",
            "46\n",
            "47\n",
            "48\n",
            "49\n",
            "50\n",
            "51\n",
            "52\n",
            "53\n",
            "54\n",
            "55\n",
            "56\n",
            "57\n",
            "58\n",
            "59\n",
            "60\n",
            "61\n",
            "62\n",
            "63\n",
            "64\n",
            "65\n",
            "66\n",
            "67\n",
            "68\n",
            "69\n",
            "70\n",
            "71\n",
            "72\n",
            "73\n",
            "74\n",
            "75\n",
            "76\n",
            "77\n",
            "78\n",
            "79\n",
            "80\n",
            "81\n",
            "82\n",
            "83\n",
            "84\n",
            "85\n",
            "86\n",
            "87\n",
            "88\n",
            "89\n",
            "90\n",
            "91\n",
            "92\n",
            "93\n",
            "94\n",
            "95\n",
            "96\n",
            "97\n",
            "98\n",
            "99\n",
            "100\n"
          ],
          "name": "stdout"
        }
      ]
    },
    {
      "cell_type": "code",
      "metadata": {
        "colab": {
          "base_uri": "https://localhost:8080/"
        },
        "id": "6Jlt7COnASEF",
        "outputId": "7b852d0e-c665-4706-c56e-3900fc44dfbb"
      },
      "source": [
        "def generator():\r\n",
        "    yield 1\r\n",
        "    yield 'string'\r\n",
        "    yield True\r\n",
        "g = generator()\r\n",
        "g\r\n",
        "\r\n",
        "# 여러 타입의 값을 하나의 함수에서 생성하는 것도 가능"
      ],
      "execution_count": 22,
      "outputs": [
        {
          "output_type": "execute_result",
          "data": {
            "text/plain": [
              "<generator object generator at 0x7fd868c92dd0>"
            ]
          },
          "metadata": {
            "tags": []
          },
          "execution_count": 22
        }
      ]
    },
    {
      "cell_type": "code",
      "metadata": {
        "colab": {
          "base_uri": "https://localhost:8080/"
        },
        "id": "tDe8pmiiAopA",
        "outputId": "95ac3473-e076-43cb-dd9a-978504b15393"
      },
      "source": [
        "next(g)"
      ],
      "execution_count": 23,
      "outputs": [
        {
          "output_type": "execute_result",
          "data": {
            "text/plain": [
              "1"
            ]
          },
          "metadata": {
            "tags": []
          },
          "execution_count": 23
        }
      ]
    },
    {
      "cell_type": "code",
      "metadata": {
        "colab": {
          "base_uri": "https://localhost:8080/",
          "height": 35
        },
        "id": "AGtQAGabAtCW",
        "outputId": "c77463c2-334b-4603-d9c0-c266d51aa4b3"
      },
      "source": [
        "next(g)"
      ],
      "execution_count": 24,
      "outputs": [
        {
          "output_type": "execute_result",
          "data": {
            "application/vnd.google.colaboratory.intrinsic+json": {
              "type": "string"
            },
            "text/plain": [
              "'string'"
            ]
          },
          "metadata": {
            "tags": []
          },
          "execution_count": 24
        }
      ]
    },
    {
      "cell_type": "code",
      "metadata": {
        "colab": {
          "base_uri": "https://localhost:8080/"
        },
        "id": "eiQY-cA7Atri",
        "outputId": "43ad65d1-b780-4d84-a732-fde2b5cdf902"
      },
      "source": [
        "next(g)"
      ],
      "execution_count": 25,
      "outputs": [
        {
          "output_type": "execute_result",
          "data": {
            "text/plain": [
              "True"
            ]
          },
          "metadata": {
            "tags": []
          },
          "execution_count": 25
        }
      ]
    },
    {
      "cell_type": "markdown",
      "metadata": {
        "id": "XXuhJwyAAwWY"
      },
      "source": [
        "## range\r\n",
        "### 83p~84p"
      ]
    },
    {
      "cell_type": "code",
      "metadata": {
        "colab": {
          "base_uri": "https://localhost:8080/"
        },
        "id": "xEQAJeHzAuem",
        "outputId": "7e07f014-5eed-4066-b62d-6c3c6b751ae7"
      },
      "source": [
        "# 제너레이터 방식을 활용하는 대표적 함수\r\n",
        "# 주로 for문에서\r\n",
        "\r\n",
        "\r\n",
        "list(range(5))"
      ],
      "execution_count": 26,
      "outputs": [
        {
          "output_type": "execute_result",
          "data": {
            "text/plain": [
              "[0, 1, 2, 3, 4]"
            ]
          },
          "metadata": {
            "tags": []
          },
          "execution_count": 26
        }
      ]
    },
    {
      "cell_type": "code",
      "metadata": {
        "colab": {
          "base_uri": "https://localhost:8080/"
        },
        "id": "0APYeYrmBIgt",
        "outputId": "5c35086d-9a40-44e2-ae94-402379751560"
      },
      "source": [
        "range(0,5)"
      ],
      "execution_count": 27,
      "outputs": [
        {
          "output_type": "execute_result",
          "data": {
            "text/plain": [
              "range(0, 5)"
            ]
          },
          "metadata": {
            "tags": []
          },
          "execution_count": 27
        }
      ]
    },
    {
      "cell_type": "code",
      "metadata": {
        "colab": {
          "base_uri": "https://localhost:8080/"
        },
        "id": "9rOP2VS-BQM8",
        "outputId": "2a50b566-3fa6-4bc2-c69f-7f979023fbcb"
      },
      "source": [
        "type(range(5))\r\n",
        "\r\n",
        "# 책에서는 <class 'range'>"
      ],
      "execution_count": 28,
      "outputs": [
        {
          "output_type": "execute_result",
          "data": {
            "text/plain": [
              "range"
            ]
          },
          "metadata": {
            "tags": []
          },
          "execution_count": 28
        }
      ]
    },
    {
      "cell_type": "code",
      "metadata": {
        "colab": {
          "base_uri": "https://localhost:8080/"
        },
        "id": "F5v--ZKDBSvW",
        "outputId": "a28ba2ea-c97c-4717-f586-21315ff1fb10"
      },
      "source": [
        "for i in range(5):\r\n",
        "    print(i, end= '')"
      ],
      "execution_count": 29,
      "outputs": [
        {
          "output_type": "stream",
          "text": [
            "01234"
          ],
          "name": "stdout"
        }
      ]
    },
    {
      "cell_type": "code",
      "metadata": {
        "id": "s8HcGRcEBf9O"
      },
      "source": [
        "# range()는 range 클래스를 반환하며 for문에서 사용될 때는 내부적으로 제너레이터의 next()를 호출하듯 다음 숫자 생성\r\n",
        "# 제너레이터 반환하듯 range 클래스만 리턴하면 숫자 100만개 생성하는 것도 무리가 없다.\r\n",
        "# 생성조건만 정해두고 필요할 때 꺼내서 씀\r\n",
        "\r\n",
        "a = [n for n in range(1000000)]\r\n",
        "b = range(1000000)"
      ],
      "execution_count": 30,
      "outputs": []
    },
    {
      "cell_type": "code",
      "metadata": {
        "colab": {
          "base_uri": "https://localhost:8080/"
        },
        "id": "x9W-JxZRCW1w",
        "outputId": "d181bb32-289c-4983-8cec-f7f5f3708d59"
      },
      "source": [
        "len(a)"
      ],
      "execution_count": 31,
      "outputs": [
        {
          "output_type": "execute_result",
          "data": {
            "text/plain": [
              "1000000"
            ]
          },
          "metadata": {
            "tags": []
          },
          "execution_count": 31
        }
      ]
    },
    {
      "cell_type": "code",
      "metadata": {
        "colab": {
          "base_uri": "https://localhost:8080/"
        },
        "id": "Fjrmfs5FCYfl",
        "outputId": "eeca062a-21c6-4f5f-c432-4fb1a7c493e3"
      },
      "source": [
        "len(b)"
      ],
      "execution_count": 32,
      "outputs": [
        {
          "output_type": "execute_result",
          "data": {
            "text/plain": [
              "1000000"
            ]
          },
          "metadata": {
            "tags": []
          },
          "execution_count": 32
        }
      ]
    },
    {
      "cell_type": "code",
      "metadata": {
        "colab": {
          "base_uri": "https://localhost:8080/"
        },
        "id": "nhOREtjACbGd",
        "outputId": "85a99586-7e5f-46ef-e96e-350866e53c21"
      },
      "source": [
        "len(a) == len(b)"
      ],
      "execution_count": 33,
      "outputs": [
        {
          "output_type": "execute_result",
          "data": {
            "text/plain": [
              "True"
            ]
          },
          "metadata": {
            "tags": []
          },
          "execution_count": 33
        }
      ]
    },
    {
      "cell_type": "code",
      "metadata": {
        "colab": {
          "base_uri": "https://localhost:8080/"
        },
        "id": "DcNuz_PMCd4j",
        "outputId": "f1b94f35-3008-489e-bfb8-6528fdc7332e"
      },
      "source": [
        "b"
      ],
      "execution_count": 34,
      "outputs": [
        {
          "output_type": "execute_result",
          "data": {
            "text/plain": [
              "range(0, 1000000)"
            ]
          },
          "metadata": {
            "tags": []
          },
          "execution_count": 34
        }
      ]
    },
    {
      "cell_type": "code",
      "metadata": {
        "colab": {
          "base_uri": "https://localhost:8080/"
        },
        "id": "xisuWl40Cm_h",
        "outputId": "ae8ed478-cc09-45dd-d650-11cadbd9deff"
      },
      "source": [
        "type(b)"
      ],
      "execution_count": 35,
      "outputs": [
        {
          "output_type": "execute_result",
          "data": {
            "text/plain": [
              "range"
            ]
          },
          "metadata": {
            "tags": []
          },
          "execution_count": 35
        }
      ]
    },
    {
      "cell_type": "code",
      "metadata": {
        "colab": {
          "base_uri": "https://localhost:8080/",
          "height": 169
        },
        "id": "yb46nR0cCpu4",
        "outputId": "0ff09b67-2c7f-4cad-a3f3-07ad46386c8c"
      },
      "source": [
        "sys.getsizeof(a)"
      ],
      "execution_count": 36,
      "outputs": [
        {
          "output_type": "error",
          "ename": "NameError",
          "evalue": "ignored",
          "traceback": [
            "\u001b[0;31m---------------------------------------------------------------------------\u001b[0m",
            "\u001b[0;31mNameError\u001b[0m                                 Traceback (most recent call last)",
            "\u001b[0;32m<ipython-input-36-f6f83a18bddf>\u001b[0m in \u001b[0;36m<module>\u001b[0;34m()\u001b[0m\n\u001b[0;32m----> 1\u001b[0;31m \u001b[0msys\u001b[0m\u001b[0;34m.\u001b[0m\u001b[0mgetsizeof\u001b[0m\u001b[0;34m(\u001b[0m\u001b[0ma\u001b[0m\u001b[0;34m)\u001b[0m\u001b[0;34m\u001b[0m\u001b[0;34m\u001b[0m\u001b[0m\n\u001b[0m",
            "\u001b[0;31mNameError\u001b[0m: name 'sys' is not defined"
          ]
        }
      ]
    },
    {
      "cell_type": "code",
      "metadata": {
        "id": "YZOHyBYwCrZC",
        "colab": {
          "base_uri": "https://localhost:8080/",
          "height": 204
        },
        "outputId": "7b53c84d-3c2e-43dd-e0cf-0093317d15ea"
      },
      "source": [
        "sys.getsizeof(b)\r\n",
        "# 에러가 나는데 책에서는 a 8697464, b 48\r\n",
        "# a에는 이미 생성된 값이 담겨 있고, b에는 생성 조건이 담겨 있다"
      ],
      "execution_count": 37,
      "outputs": [
        {
          "output_type": "error",
          "ename": "NameError",
          "evalue": "ignored",
          "traceback": [
            "\u001b[0;31m---------------------------------------------------------------------------\u001b[0m",
            "\u001b[0;31mNameError\u001b[0m                                 Traceback (most recent call last)",
            "\u001b[0;32m<ipython-input-37-4b13901229e8>\u001b[0m in \u001b[0;36m<module>\u001b[0;34m()\u001b[0m\n\u001b[0;32m----> 1\u001b[0;31m \u001b[0msys\u001b[0m\u001b[0;34m.\u001b[0m\u001b[0mgetsizeof\u001b[0m\u001b[0;34m(\u001b[0m\u001b[0mb\u001b[0m\u001b[0;34m)\u001b[0m\u001b[0;34m\u001b[0m\u001b[0;34m\u001b[0m\u001b[0m\n\u001b[0m\u001b[1;32m      2\u001b[0m \u001b[0;31m# 에러가 나는데 책에서는 a 8697464, b 48\u001b[0m\u001b[0;34m\u001b[0m\u001b[0;34m\u001b[0m\u001b[0;34m\u001b[0m\u001b[0m\n\u001b[1;32m      3\u001b[0m \u001b[0;31m# a에는 이미 생성된 값이 담겨 있고, b에는 생성 조건이 담겨 있다\u001b[0m\u001b[0;34m\u001b[0m\u001b[0;34m\u001b[0m\u001b[0;34m\u001b[0m\u001b[0m\n",
            "\u001b[0;31mNameError\u001b[0m: name 'sys' is not defined"
          ]
        }
      ]
    },
    {
      "cell_type": "code",
      "metadata": {
        "id": "MuZwhf3zDGP4"
      },
      "source": [
        "b[999]\r\n",
        "\r\n",
        "# 인덱스에 접근함과 동시에 값을 생성하므로 list와 거의 동일하게 사용 가능함"
      ],
      "execution_count": null,
      "outputs": []
    },
    {
      "cell_type": "markdown",
      "metadata": {
        "id": "zgSIDTx2DR0i"
      },
      "source": [
        "## enumerate  \r\n",
        "### 85p"
      ]
    },
    {
      "cell_type": "code",
      "metadata": {
        "colab": {
          "base_uri": "https://localhost:8080/"
        },
        "id": "9w8DOEe0DG_r",
        "outputId": "a8ca04c9-2e0c-421a-a4e8-d0df8b10ff42"
      },
      "source": [
        "# 열거하다. 순서가 있는 자료형(list, set, tuple, etc)을 인덱스를 포함한 enumerate 객체로 반환\r\n",
        "\r\n",
        "a = [1,2,3,2,45,2,5]\r\n",
        "a"
      ],
      "execution_count": 38,
      "outputs": [
        {
          "output_type": "execute_result",
          "data": {
            "text/plain": [
              "[1, 2, 3, 2, 45, 2, 5]"
            ]
          },
          "metadata": {
            "tags": []
          },
          "execution_count": 38
        }
      ]
    },
    {
      "cell_type": "code",
      "metadata": {
        "colab": {
          "base_uri": "https://localhost:8080/"
        },
        "id": "_hyPXuFfD4zO",
        "outputId": "b35c9ebe-948d-4ccf-8816-1123ee5ba915"
      },
      "source": [
        "enumerate(a)"
      ],
      "execution_count": 39,
      "outputs": [
        {
          "output_type": "execute_result",
          "data": {
            "text/plain": [
              "<enumerate at 0x7fd868c99780>"
            ]
          },
          "metadata": {
            "tags": []
          },
          "execution_count": 39
        }
      ]
    },
    {
      "cell_type": "code",
      "metadata": {
        "colab": {
          "base_uri": "https://localhost:8080/"
        },
        "id": "51UhZAoUD-AO",
        "outputId": "799bc153-2d77-41f8-d705-c68ffb6b78e8"
      },
      "source": [
        "list(enumerate(a))\r\n",
        "\r\n",
        "# list()로 결과 추출, 인덱스 자동 부여"
      ],
      "execution_count": 40,
      "outputs": [
        {
          "output_type": "execute_result",
          "data": {
            "text/plain": [
              "[(0, 1), (1, 2), (2, 3), (3, 2), (4, 45), (5, 2), (6, 5)]"
            ]
          },
          "metadata": {
            "tags": []
          },
          "execution_count": 40
        }
      ]
    },
    {
      "cell_type": "code",
      "metadata": {
        "colab": {
          "base_uri": "https://localhost:8080/"
        },
        "id": "zbcyWdgCEArX",
        "outputId": "c0691d0e-3366-40f5-dd4b-fb92dd5a658c"
      },
      "source": [
        "# a = ['a1', 'b2', 'c3']가 있을 때 list의 인덱스와 값을 함께 출력하려면?\r\n",
        "\r\n",
        "a = ['a1', 'b2', 'c3']\r\n",
        "for i in range(len(a)):\r\n",
        "    print(i, a[i])\r\n",
        "# a[i] 조회 작업은 불필요. 전체 길이를 조회해 루프를 처리해 깔끔하지 않음"
      ],
      "execution_count": 41,
      "outputs": [
        {
          "output_type": "stream",
          "text": [
            "0 a1\n",
            "1 b2\n",
            "2 c3\n"
          ],
          "name": "stdout"
        }
      ]
    },
    {
      "cell_type": "code",
      "metadata": {
        "colab": {
          "base_uri": "https://localhost:8080/"
        },
        "id": "P6WLf51REdNm",
        "outputId": "37f9444e-4339-4f0b-e73e-b455247512be"
      },
      "source": [
        "i = 0\r\n",
        "for v in a:\r\n",
        "    print(i, v)\r\n",
        "    i += 1\r\n",
        "# 값은 깔끔하게 처리하나 인덱스를 위한 변수가 별도로 존재해 불편"
      ],
      "execution_count": 42,
      "outputs": [
        {
          "output_type": "stream",
          "text": [
            "0 a1\n",
            "1 b2\n",
            "2 c3\n"
          ],
          "name": "stdout"
        }
      ]
    },
    {
      "cell_type": "code",
      "metadata": {
        "colab": {
          "base_uri": "https://localhost:8080/"
        },
        "id": "r8ehr7P_E1I1",
        "outputId": "12ce5562-6768-4966-fd14-465c65f4ff70"
      },
      "source": [
        "for i, v in enumerate(a):\r\n",
        "    print(i, v)"
      ],
      "execution_count": 43,
      "outputs": [
        {
          "output_type": "stream",
          "text": [
            "0 a1\n",
            "1 b2\n",
            "2 c3\n"
          ],
          "name": "stdout"
        }
      ]
    },
    {
      "cell_type": "markdown",
      "metadata": {
        "id": "qzWrgsBDFKli"
      },
      "source": [
        "## //나눗셈 연산자\r\n",
        "### 86p~87p"
      ]
    },
    {
      "cell_type": "code",
      "metadata": {
        "colab": {
          "base_uri": "https://localhost:8080/"
        },
        "id": "ddzR9fhnFDq0",
        "outputId": "5f3227e6-4fb1-408e-d57f-038e6c0002fe"
      },
      "source": [
        "# 파이썬 2 이하에서 기본 연산자 /는 타입을 유지하는 특성 때문에 \r\n",
        "# 5/3을 입력하면 1 반환했음\r\n",
        "\r\n",
        "#파이썬 3+\r\n",
        "5/3"
      ],
      "execution_count": 44,
      "outputs": [
        {
          "output_type": "execute_result",
          "data": {
            "text/plain": [
              "1.6666666666666667"
            ]
          },
          "metadata": {
            "tags": []
          },
          "execution_count": 44
        }
      ]
    },
    {
      "cell_type": "code",
      "metadata": {
        "colab": {
          "base_uri": "https://localhost:8080/"
        },
        "id": "NkJLd_QdGtHa",
        "outputId": "b6631be7-ba17-4326-b8d5-c293a1fbd774"
      },
      "source": [
        "# PEP 238에서 동작 방식이 변경되면서 기존의 /를 //가 대체\r\n",
        "# 내림Floor Division 연산자, 몫Quotient을 구하는 연산자\r\n",
        "\r\n",
        "type(5/3)"
      ],
      "execution_count": 45,
      "outputs": [
        {
          "output_type": "execute_result",
          "data": {
            "text/plain": [
              "float"
            ]
          },
          "metadata": {
            "tags": []
          },
          "execution_count": 45
        }
      ]
    },
    {
      "cell_type": "code",
      "metadata": {
        "colab": {
          "base_uri": "https://localhost:8080/"
        },
        "id": "cIfXqasSHpdi",
        "outputId": "91e4dba6-3580-449c-c6fb-b1a3c76b1fe3"
      },
      "source": [
        "int(5/3)"
      ],
      "execution_count": 46,
      "outputs": [
        {
          "output_type": "execute_result",
          "data": {
            "text/plain": [
              "1"
            ]
          },
          "metadata": {
            "tags": []
          },
          "execution_count": 46
        }
      ]
    },
    {
      "cell_type": "code",
      "metadata": {
        "colab": {
          "base_uri": "https://localhost:8080/"
        },
        "id": "dx1OnmMxHrvH",
        "outputId": "18c85a6a-2183-47b7-c36c-5af4d39c7a08"
      },
      "source": [
        "type(int(5/3))"
      ],
      "execution_count": 47,
      "outputs": [
        {
          "output_type": "execute_result",
          "data": {
            "text/plain": [
              "int"
            ]
          },
          "metadata": {
            "tags": []
          },
          "execution_count": 47
        }
      ]
    },
    {
      "cell_type": "code",
      "metadata": {
        "colab": {
          "base_uri": "https://localhost:8080/"
        },
        "id": "jgptJE0xHuYq",
        "outputId": "8db38d6d-fedd-4a6e-80c7-b27fc81537cc"
      },
      "source": [
        "# 나머지Remainder를 구하는 모듈로modulo 연산자는 %\r\n",
        "5%3"
      ],
      "execution_count": 48,
      "outputs": [
        {
          "output_type": "execute_result",
          "data": {
            "text/plain": [
              "2"
            ]
          },
          "metadata": {
            "tags": []
          },
          "execution_count": 48
        }
      ]
    },
    {
      "cell_type": "code",
      "metadata": {
        "id": "vCVUFXziIYJS",
        "colab": {
          "base_uri": "https://localhost:8080/"
        },
        "outputId": "64f2f7ca-f229-489b-be4b-8ceb00d970d9"
      },
      "source": [
        "# 몫과 나머지를 동시에 구할 때 몫과 나머지를 동시에 구할 때\r\n",
        "divmod(5,3)"
      ],
      "execution_count": 49,
      "outputs": [
        {
          "output_type": "execute_result",
          "data": {
            "text/plain": [
              "(1, 2)"
            ]
          },
          "metadata": {
            "tags": []
          },
          "execution_count": 49
        }
      ]
    },
    {
      "cell_type": "markdown",
      "metadata": {
        "id": "ocOoFgGMIvRL"
      },
      "source": [
        "## print \r\n",
        "### 87p~88p"
      ]
    },
    {
      "cell_type": "code",
      "metadata": {
        "id": "NFBL1LxwI3qo"
      },
      "source": [
        "# 코테 풀이 디버깅할 때 가장 많이 사용\r\n",
        "# 실무에서는 디버거나 TDD 방식 등으로 디버깅"
      ],
      "execution_count": 50,
      "outputs": []
    },
    {
      "cell_type": "code",
      "metadata": {
        "colab": {
          "base_uri": "https://localhost:8080/"
        },
        "id": "1M9sBWsIJLX5",
        "outputId": "c87b059d-df7e-471e-9579-8df34bbf52e0"
      },
      "source": [
        "print('A1', 'B2')\r\n",
        "# 콤마로 구분, 한 칸 공백이 디폴트"
      ],
      "execution_count": 51,
      "outputs": [
        {
          "output_type": "stream",
          "text": [
            "A1 B2\n"
          ],
          "name": "stdout"
        }
      ]
    },
    {
      "cell_type": "code",
      "metadata": {
        "colab": {
          "base_uri": "https://localhost:8080/"
        },
        "id": "djMLpxIGJS6K",
        "outputId": "38657d2c-4d02-4d88-b0f3-c63e0917f9f3"
      },
      "source": [
        "print('A1', 'B2', sep = ',')\r\n",
        "# sep 파라미터로 구분자를 콤마로 지정"
      ],
      "execution_count": 52,
      "outputs": [
        {
          "output_type": "stream",
          "text": [
            "A1,B2\n"
          ],
          "name": "stdout"
        }
      ]
    },
    {
      "cell_type": "code",
      "metadata": {
        "colab": {
          "base_uri": "https://localhost:8080/"
        },
        "id": "t6BH8hB6JhNj",
        "outputId": "6935bbfa-98b3-4d41-e6c9-d7799a7bbef0"
      },
      "source": [
        "print('aa', end = ' ')\r\n",
        "print('bb')\r\n",
        "# 항상 줄바꿈을 하기 때문에 루프 값을 반복적으로 출력하면 디버깅에 어려움"
      ],
      "execution_count": 53,
      "outputs": [
        {
          "output_type": "stream",
          "text": [
            "aa bb\n"
          ],
          "name": "stdout"
        }
      ]
    },
    {
      "cell_type": "code",
      "metadata": {
        "colab": {
          "base_uri": "https://localhost:8080/"
        },
        "id": "UHMN8hw-Jymx",
        "outputId": "624b2cf7-b305-4608-fdb5-8bd9e5bd61d3"
      },
      "source": [
        "a = ['A', 'B']\r\n",
        "print(' '.join(a))\r\n",
        "#list 출력할 때는 join()으로 묶어서 처리"
      ],
      "execution_count": 54,
      "outputs": [
        {
          "output_type": "stream",
          "text": [
            "A B\n"
          ],
          "name": "stdout"
        }
      ]
    },
    {
      "cell_type": "code",
      "metadata": {
        "id": "cHir6Bz5KChb"
      },
      "source": [
        "idx = 1\r\n",
        "fruit = \"Apple\"\r\n",
        "\r\n",
        "# idx에 1을 더해 fruit와 함께 출력하는 방법?"
      ],
      "execution_count": 55,
      "outputs": []
    },
    {
      "cell_type": "code",
      "metadata": {
        "colab": {
          "base_uri": "https://localhost:8080/"
        },
        "id": "BIHM7q0QKTnx",
        "outputId": "40dbee1d-dbd4-48bf-b96e-21bfe961c968"
      },
      "source": [
        "print('{0}: {1}'.format(idx + 1, fruit))\r\n",
        "# 인덱스와 같이"
      ],
      "execution_count": 56,
      "outputs": [
        {
          "output_type": "stream",
          "text": [
            "2: Apple\n"
          ],
          "name": "stdout"
        }
      ]
    },
    {
      "cell_type": "code",
      "metadata": {
        "colab": {
          "base_uri": "https://localhost:8080/"
        },
        "id": "PHGtEluPKaQR",
        "outputId": "a41abe03-e5ff-4a49-afc0-5687c7fdaaa1"
      },
      "source": [
        "print('{}: {}'.format(idx + 1, fruit))\r\n",
        "# 인덱스 생략 가능"
      ],
      "execution_count": 57,
      "outputs": [
        {
          "output_type": "stream",
          "text": [
            "2: Apple\n"
          ],
          "name": "stdout"
        }
      ]
    },
    {
      "cell_type": "code",
      "metadata": {
        "colab": {
          "base_uri": "https://localhost:8080/"
        },
        "id": "boH9dXEHKnMl",
        "outputId": "c8b66266-059e-4718-dec1-1d5dafc4113b"
      },
      "source": [
        "# 파이썬 3.6+\r\n",
        "# 뒤에 변수 부착할 필요, %나 format 없이 간결하게 인라인으로\r\n",
        "print(f'{idx + 1}: {fruit}')"
      ],
      "execution_count": 58,
      "outputs": [
        {
          "output_type": "stream",
          "text": [
            "2: Apple\n"
          ],
          "name": "stdout"
        }
      ]
    },
    {
      "cell_type": "markdown",
      "metadata": {
        "id": "PjKRrPCXLH-8"
      },
      "source": [
        "## pass  \r\n",
        "### 89p"
      ]
    },
    {
      "cell_type": "code",
      "metadata": {
        "id": "WYCbcvV0LFEy",
        "colab": {
          "base_uri": "https://localhost:8080/",
          "height": 134
        },
        "outputId": "1852c5d1-6133-4422-8147-35efe8715342"
      },
      "source": [
        "class MyClass(object):\r\n",
        "    def method_a(self):\r\n",
        "\r\n",
        "    def method_b(self):\r\n",
        "        print(\"Method B\")\r\n",
        "\r\n",
        "c = MyClass()\r\n",
        "\r\n",
        "# IndentationError: expected an indented block\r\n",
        "# method_a 가 아무런 처리도 하지 않았기 때문에"
      ],
      "execution_count": 59,
      "outputs": [
        {
          "output_type": "error",
          "ename": "IndentationError",
          "evalue": "ignored",
          "traceback": [
            "\u001b[0;36m  File \u001b[0;32m\"<ipython-input-59-b26e762d661e>\"\u001b[0;36m, line \u001b[0;32m4\u001b[0m\n\u001b[0;31m    def method_b(self):\u001b[0m\n\u001b[0m      ^\u001b[0m\n\u001b[0;31mIndentationError\u001b[0m\u001b[0;31m:\u001b[0m expected an indented block\n"
          ]
        }
      ]
    },
    {
      "cell_type": "code",
      "metadata": {
        "id": "KJgl5OusEYI-"
      },
      "source": [
        "class MyClass(object):\r\n",
        "    def method_a(self):\r\n",
        "        # 여기에 pass 추가\r\n",
        "        pass\r\n",
        "\r\n",
        "    def method_b(self):\r\n",
        "        print(\"Method B\")\r\n",
        "\r\n",
        "c = MyClass()\r\n",
        "\r\n",
        "# pass는 널null 연산으로 아무것도 하지 않는 기능"
      ],
      "execution_count": 60,
      "outputs": []
    },
    {
      "cell_type": "markdown",
      "metadata": {
        "id": "9b3bzCgIFJIE"
      },
      "source": [
        "## locals(로컬 심볼 테이블 딕셔너리)  \r\n",
        "### 90p"
      ]
    },
    {
      "cell_type": "code",
      "metadata": {
        "colab": {
          "base_uri": "https://localhost:8080/"
        },
        "id": "G16e2g9XFu6C",
        "outputId": "c911e7ec-cf48-46ea-af43-3ff5a85ce239"
      },
      "source": [
        "# 로컬에 선언된 모든 변수를 조회할 수 있음\r\n",
        "# 로컬 스코프에 제한해 조회하므로\r\n",
        "# 클래스의 특정 메소드 내부 혹은 함수 내부의 로컬 정보를 조회해\r\n",
        "# 잘못 선언하지 않았는지 확인할 수 있다\r\n",
        "import pprint\r\n",
        "pprint.pprint(locals())\r\n",
        "\r\n",
        "# pprint는 보기 좋게 줄바꿈 처리함\r\n",
        "# 클래스 메소드 내의 모든 로컬 변수 출력"
      ],
      "execution_count": 61,
      "outputs": [
        {
          "output_type": "stream",
          "text": [
            "{'In': ['',\n",
            "        '함수 fizzbuzz()\\n'\n",
            "        '  for i=1 to 100\\n'\n",
            "        '    print_number = True\\n'\n",
            "        '\\n'\n",
            "        '    if i is 3으로 나눌 수 있다면\\n'\n",
            "        '      print \"Fizz\"\\n'\n",
            "        '      print_number = False\\n'\n",
            "        '\\n'\n",
            "        '    if i is 5로 나눌 수 있다면\\n'\n",
            "        '      print \"Buzz\"\\n'\n",
            "        '      print_number = False\\n'\n",
            "        '\\n'\n",
            "        '    if print_number = True\\n'\n",
            "        '      print i\\n'\n",
            "        '      \\n'\n",
            "        '    print 빈 줄',\n",
            "        '# 예시1\\nsum = 0\\nfor i in range (1, 10+1):\\n  sum += i\\nsum',\n",
            "        '# 예시2\\ndel sum\\nsum = sum(i for i in range(1, 10+1))\\nsum',\n",
            "        '# 예시3\\ndel sum\\nsum = sum(range(1, 10+1))\\nsum',\n",
            "        'def are_equal(a, b):\\n  return a == b\\n\\nare_equal(10, 10.0)',\n",
            "        '# Dynamic Typing 언어라 제네릭이 필요없으나 가독성을 위해 타입을 명시할 수 있다. 3장 76p\\n'\n",
            "        'from typing import TypeVar\\n'\n",
            "        '\\n'\n",
            "        \"T = TypeVar('T')\\n\"\n",
            "        \"U = TypeVar('U')\\n\"\n",
            "        '\\n'\n",
            "        'def are_equal(a: T, b: U) -> bool:\\n'\n",
            "        '   return a == b\\n'\n",
            "        '\\n'\n",
            "        'are_equal(10,10.0)',\n",
            "        \"foo = ['A', 'B', 'C']\\nfor f in foo:\\n   print(f)\",\n",
            "        'from collections import namedtuple\\n'\n",
            "        'MyStruct = namedtuple(\"MyStruct\", \"field1 field2 field3\")\\n'\n",
            "        'm = MyStruct(\"foo\", \"bar\", \"baz\")\\n'\n",
            "        '\\n'\n",
            "        '# 파이썬에는 구조체가 없고 클래스도 데이터 타입을 지정할 수 없어 namedtuple로 정의함',\n",
            "        '# python 3.7+\\n'\n",
            "        'from dataclasses import dataclass\\n'\n",
            "        '\\n'\n",
            "        '@dataclass\\n'\n",
            "        'class Product:\\n'\n",
            "        '    weight: int = None\\n'\n",
            "        '    price: float = None\\n'\n",
            "        '\\n'\n",
            "        'apple = Product()\\n'\n",
            "        'apple.price = 10\\n'\n",
            "        '\\n'\n",
            "        '# python 3.7 부터는 dataclass를 지원\\n'\n",
            "        '# @dataclass 데코레이션으로 타입 힌트와 함께 활용함으로써 구조체 형태로 정의할 수 있음\\n'\n",
            "        '# 초기화함수 지원, 출력 시 읽기 쉬운 포맷으로 출력\\n'\n",
            "        '# 3.6 이하 버전에서도 Backport 버전을 제공하므로 $pip install dataclasses 로 설치해 사용할 '\n",
            "        '수 있다.',\n",
            "        'from dataclasses import dataclass\\n'\n",
            "        '\\n'\n",
            "        '@dataclass\\n'\n",
            "        'class Rectangle:\\n'\n",
            "        '    width: int\\n'\n",
            "        '    height: int\\n'\n",
            "        '\\n'\n",
            "        '    def area(self):\\n'\n",
            "        '        return self.width * self.height\\n'\n",
            "        '\\n'\n",
            "        'rect = Rectangle(3, 4)\\n'\n",
            "        'print(rect.area())\\n'\n",
            "        '\\n'\n",
            "        '# 실무에서는 자주 쓰이는데 코테에서는 잘 안 쓰인다.\\n'\n",
            "        '# @dataclass 선언은 필수는 아니지만 여러 내부함수 기능도 자동으로 구현해줘서 편리함',\n",
            "        'foo = long_function_name(var_one, var_two,\\n'\n",
            "        '                         var_three, var_four)\\n'\n",
            "        '# 첫번째 줄에 파라미터가 있으면 파라미터가 시작되는 부분에 보기 좋게\\n'\n",
            "        '\\n'\n",
            "        'def long_function_name(\\n'\n",
            "        '        var_one, var_two, var_three, \\n'\n",
            "        '        var_four):\\n'\n",
            "        '    print(var_one)\\n'\n",
            "        '# 없으면 공백 4칸 인덴트를 한 번 더 추가해 다른 행과 구분\\n'\n",
            "        '\\n'\n",
            "        'foo = long_function_name(\\n'\n",
            "        '    var_one, var_two,\\n'\n",
            "        '    var_three, var_four)\\n'\n",
            "        '# 여러 줄로 나워쓸 경우 다음 행과 구분되도록 인덴트 추가',\n",
            "        'a: str = \"1\"\\n'\n",
            "        'b: int = 1\\n'\n",
            "        '\\n'\n",
            "        '# 대표적 동적 타이핑 언어임에도 PEP 484 문서에 타입을 지정하는 Type Hint 추가됨',\n",
            "        '# def fn(a):\\n'\n",
            "        '# 처럼 표기하면 빠르나 가독성 떨어지며 오류 발생할 수 있음. 입출력값 유형 알 수 없음. 따라서\\n'\n",
            "        '# def fn(a: int) -> bool:\\n'\n",
            "        '# 와 같이 입출력값의 유형을 알 수 있음. \\n'\n",
            "        'a: str = 1\\n'\n",
            "        'type(a)',\n",
            "        '# 그러나 위와 같이 문자열에 정수를 할당하는 식의 사용은 지양해야 함. 강제 규약이 아니다 보니 동적으로 할당될 수 '\n",
            "        '있음.\\n'\n",
            "        '# 온라인 코테에서는 $ pip install mypy 로 mypy를 설치해 타입 힌트 오류 점검할 수 있다. ',\n",
            "        '# $ pip install mypy\\n'\n",
            "        '# $ mypy solution.py\\n'\n",
            "        '# 타입 힌트가 잘못 지정되면 Incompatible return value type 오류가 발생함.',\n",
            "        'list(map(lambda x: x + 10, [1, 2, 3]))\\n'\n",
            "        '# map, filter와 같은 함수형 기능을 지원하며 위와 같은 람다 표현식도 지원.',\n",
            "        '# 리스트 컴프리헨션 사용하면\\n[n * 2 for n in range(1, 10 + 1) if n % 2 == 1]',\n",
            "        '# 리스트 컴프리헨션 사용하지 않으면\\n'\n",
            "        '\\n'\n",
            "        'a = []\\n'\n",
            "        'for n in range(1, 10 + 1):\\n'\n",
            "        '    if n % 2 == 1:\\n'\n",
            "        '        a.append(n * 2)\\n'\n",
            "        '        \\n'\n",
            "        'a\\n'\n",
            "        '# 길고, a라는 별도의 리스트 변수 추가됨.',\n",
            "        '# 버전 2.7 이후에는 리스트 외에도 딕셔너리 등도 가능\\n'\n",
            "        'a = {key: value for key, value in original.items()}\\n'\n",
            "        '\\n'\n",
            "        '# 기존 정의 코드\\n'\n",
            "        'a = {}\\n'\n",
            "        'for key, value in original.items():\\n'\n",
            "        '    a[key] = value\\n'\n",
            "        '\\n'\n",
            "        '# 표현식이 2개를 넘으면 가독성 떨어짐',\n",
            "        '# 기존 함수는 return 구문을 만나면 값을 반환하고 동작을 종료했음\\n'\n",
            "        '# yield 구문으로 제너레이터를 리턴할 수 있음(실행 중이던 값 양보?)\\n'\n",
            "        '# 중간값 반환 후 함수는 끝까지 실행됨\\n'\n",
            "        '\\n'\n",
            "        'def get_natural_number():\\n'\n",
            "        '    n = 0\\n'\n",
            "        '    while True:\\n'\n",
            "        '        n += 1\\n'\n",
            "        '        yield n\\n'\n",
            "        '\\n'\n",
            "        'get_natural_number()\\n'\n",
            "        '\\n'\n",
            "        '# 이 경우처럼 while True 구문은 종료 조건이 없으므로 계속해서 값을 내보낼 수 있다\\n'\n",
            "        '# 반환값이 제너레이터',\n",
            "        '# 다음 값은 next() 추출해 생성함\\n'\n",
            "        '\\n'\n",
            "        'g = get_natural_number()\\n'\n",
            "        'for _ in range(0,100):\\n'\n",
            "        '    print(next(g))',\n",
            "        'def generator():\\n'\n",
            "        '    yield 1\\n'\n",
            "        \"    yield 'string'\\n\"\n",
            "        '    yield True\\n'\n",
            "        'g = generator()\\n'\n",
            "        'g\\n'\n",
            "        '\\n'\n",
            "        '# 여러 타입의 값을 하나의 함수에서 생성하는 것도 가능',\n",
            "        'next(g)',\n",
            "        'next(g)',\n",
            "        'next(g)',\n",
            "        '# 제너레이터 방식을 활용하는 대표적 함수\\n# 주로 for문에서\\n\\n\\nlist(range(5))',\n",
            "        'range(0,5)',\n",
            "        \"type(range(5))\\n\\n# 책에서는 <class 'range'>\",\n",
            "        \"for i in range(5):\\n    print(i, end= '')\",\n",
            "        '# range()는 range 클래스를 반환하며 for문에서 사용될 때는 내부적으로 제너레이터의 next()를 호출하듯 다음 '\n",
            "        '숫자 생성\\n'\n",
            "        '# 제너레이터 반환하듯 range 클래스만 리턴하면 숫자 100만개 생성하는 것도 무리가 없다.\\n'\n",
            "        '# 생성조건만 정해두고 필요할 때 꺼내서 씀\\n'\n",
            "        '\\n'\n",
            "        'a = [n for n in range(1000000)]\\n'\n",
            "        'b = range(1000000)',\n",
            "        'len(a)',\n",
            "        'len(b)',\n",
            "        'len(a) == len(b)',\n",
            "        'b',\n",
            "        'type(b)',\n",
            "        'sys.getsizeof(a)',\n",
            "        'sys.getsizeof(b)\\n'\n",
            "        '# 에러가 나는데 책에서는 a 8697464, b 48\\n'\n",
            "        '# a에는 이미 생성된 값이 담겨 있고, b에는 생성 조건이 담겨 있다',\n",
            "        '# 열거하다. 순서가 있는 자료형(list, set, tuple, etc)을 인덱스를 포함한 enumerate 객체로 반환\\n'\n",
            "        '\\n'\n",
            "        'a = [1,2,3,2,45,2,5]\\n'\n",
            "        'a',\n",
            "        'enumerate(a)',\n",
            "        'list(enumerate(a))\\n\\n# list()로 결과 추출, 인덱스 자동 부여',\n",
            "        \"# a = ['a1', 'b2', 'c3']가 있을 때 list의 인덱스와 값을 함께 출력하려면?\\n\"\n",
            "        '\\n'\n",
            "        \"a = ['a1', 'b2', 'c3']\\n\"\n",
            "        'for i in range(len(a)):\\n'\n",
            "        '    print(i, a[i])\\n'\n",
            "        '# a[i] 조회 작업은 불필요. 전체 길이를 조회해 루프를 처리해 깔끔하지 않음',\n",
            "        'i = 0\\n'\n",
            "        'for v in a:\\n'\n",
            "        '    print(i, v)\\n'\n",
            "        '    i += 1\\n'\n",
            "        '# 값은 깔끔하게 처리하나 인덱스를 위한 변수가 별도로 존재해 불편',\n",
            "        'for i, v in enumerate(a):\\n    print(i, v)',\n",
            "        '# 파이썬 2 이하에서 기본 연산자 /는 타입을 유지하는 특성 때문에 \\n'\n",
            "        '# 5/3을 입력하면 1 반환했음\\n'\n",
            "        '\\n'\n",
            "        '#파이썬 3+\\n'\n",
            "        '5/3',\n",
            "        '# PEP 238에서 동작 방식이 변경되면서 기존의 /를 //가 대체\\n'\n",
            "        '# 내림Floor Division 연산자, 몫Quotient을 구하는 연산자\\n'\n",
            "        '\\n'\n",
            "        'type(5/3)',\n",
            "        'int(5/3)',\n",
            "        'type(int(5/3))',\n",
            "        '# 나머지Remainder를 구하는 모듈로modulo 연산자는 %\\n5%3',\n",
            "        '# 몫과 나머지를 동시에 구할 때 몫과 나머지를 동시에 구할 때\\ndivmod(5,3)',\n",
            "        '# 코테 풀이 디버깅할 때 가장 많이 사용\\n# 실무에서는 디버거나 TDD 방식 등으로 디버깅',\n",
            "        \"print('A1', 'B2')\\n# 콤마로 구분, 한 칸 공백이 디폴트\",\n",
            "        \"print('A1', 'B2', sep = ',')\\n# sep 파라미터로 구분자를 콤마로 지정\",\n",
            "        \"print('aa', end = ' ')\\n\"\n",
            "        \"print('bb')\\n\"\n",
            "        '# 항상 줄바꿈을 하기 때문에 루프 값을 반복적으로 출력하면 디버깅에 어려움',\n",
            "        \"a = ['A', 'B']\\nprint(' '.join(a))\\n#list 출력할 때는 join()으로 묶어서 처리\",\n",
            "        'idx = 1\\nfruit = \"Apple\"\\n\\n# idx에 1을 더해 fruit와 함께 출력하는 방법?',\n",
            "        \"print('{0}: {1}'.format(idx + 1, fruit))\\n# 인덱스와 같이\",\n",
            "        \"print('{}: {}'.format(idx + 1, fruit))\\n# 인덱스 생략 가능\",\n",
            "        '# 파이썬 3.6+\\n'\n",
            "        '# 뒤에 변수 부착할 필요, %나 format 없이 간결하게 인라인으로\\n'\n",
            "        \"print(f'{idx + 1}: {fruit}')\",\n",
            "        'class MyClass(object):\\n'\n",
            "        '    def method_a(self):\\n'\n",
            "        '\\n'\n",
            "        '    def method_b(self):\\n'\n",
            "        '        print(\"Method B\")\\n'\n",
            "        '\\n'\n",
            "        'c = MyClass()\\n'\n",
            "        '\\n'\n",
            "        '# IndentationError: expected an indented block\\n'\n",
            "        '# method_a 가 아무런 처리도 하지 않았기 때문에',\n",
            "        'class MyClass(object):\\n'\n",
            "        '    def method_a(self):\\n'\n",
            "        '        # 여기에 pass 추가\\n'\n",
            "        '        pass\\n'\n",
            "        '\\n'\n",
            "        '    def method_b(self):\\n'\n",
            "        '        print(\"Method B\")\\n'\n",
            "        '\\n'\n",
            "        'c = MyClass()\\n'\n",
            "        '\\n'\n",
            "        '# pass는 널null 연산으로 아무것도 하지 않는 기능',\n",
            "        '# 로컬에 선언된 모든 변수를 조회할 수 있음\\n'\n",
            "        '# 로컬 스코프에 제한해 조회하므로\\n'\n",
            "        '# 클래스의 특정 메소드 내부 혹은 함수 내부의 로컬 정보를 조회해\\n'\n",
            "        '# 잘못 선언하지 않았는지 확인할 수 있다\\n'\n",
            "        'import pprint\\n'\n",
            "        'pprint.pprint(locals())\\n'\n",
            "        '\\n'\n",
            "        '# pprint는 보기 좋게 줄바꿈 처리함\\n'\n",
            "        '# 클래스 메소드 내의 모든 로컬 변수 출력'],\n",
            " 'MyClass': <class '__main__.MyClass'>,\n",
            " 'MyStruct': <class '__main__.MyStruct'>,\n",
            " 'Out': {2: 55,\n",
            "         3: 55,\n",
            "         4: 55,\n",
            "         5: True,\n",
            "         6: True,\n",
            "         13: <class 'int'>,\n",
            "         16: [11, 12, 13],\n",
            "         17: [2, 6, 10, 14, 18],\n",
            "         18: [2, 6, 10, 14, 18],\n",
            "         20: <generator object get_natural_number at 0x7fd868c92f50>,\n",
            "         22: <generator object generator at 0x7fd868c92dd0>,\n",
            "         23: 1,\n",
            "         24: 'string',\n",
            "         25: True,\n",
            "         26: [0, 1, 2, 3, 4],\n",
            "         27: range(0, 5),\n",
            "         28: <class 'range'>,\n",
            "         31: 1000000,\n",
            "         32: 1000000,\n",
            "         33: True,\n",
            "         34: range(0, 1000000),\n",
            "         35: <class 'range'>,\n",
            "         38: [1, 2, 3, 2, 45, 2, 5],\n",
            "         39: <enumerate object at 0x7fd868c99780>,\n",
            "         40: [(0, 1), (1, 2), (2, 3), (3, 2), (4, 45), (5, 2), (6, 5)],\n",
            "         44: 1.6666666666666667,\n",
            "         45: <class 'float'>,\n",
            "         46: 1,\n",
            "         47: <class 'int'>,\n",
            "         48: 2,\n",
            "         49: (1, 2)},\n",
            " 'Product': <class '__main__.Product'>,\n",
            " 'Rectangle': <class '__main__.Rectangle'>,\n",
            " 'T': ~T,\n",
            " 'TypeVar': <class 'typing.TypeVar'>,\n",
            " 'U': ~U,\n",
            " '_': (1, 2),\n",
            " '_13': <class 'int'>,\n",
            " '_16': [11, 12, 13],\n",
            " '_17': [2, 6, 10, 14, 18],\n",
            " '_18': [2, 6, 10, 14, 18],\n",
            " '_2': 55,\n",
            " '_20': <generator object get_natural_number at 0x7fd868c92f50>,\n",
            " '_22': <generator object generator at 0x7fd868c92dd0>,\n",
            " '_23': 1,\n",
            " '_24': 'string',\n",
            " '_25': True,\n",
            " '_26': [0, 1, 2, 3, 4],\n",
            " '_27': range(0, 5),\n",
            " '_28': <class 'range'>,\n",
            " '_3': 55,\n",
            " '_31': 1000000,\n",
            " '_32': 1000000,\n",
            " '_33': True,\n",
            " '_34': range(0, 1000000),\n",
            " '_35': <class 'range'>,\n",
            " '_38': [1, 2, 3, 2, 45, 2, 5],\n",
            " '_39': <enumerate object at 0x7fd868c99780>,\n",
            " '_4': 55,\n",
            " '_40': [(0, 1), (1, 2), (2, 3), (3, 2), (4, 45), (5, 2), (6, 5)],\n",
            " '_44': 1.6666666666666667,\n",
            " '_45': <class 'float'>,\n",
            " '_46': 1,\n",
            " '_47': <class 'int'>,\n",
            " '_48': 2,\n",
            " '_49': (1, 2),\n",
            " '_5': True,\n",
            " '_6': True,\n",
            " '__': 2,\n",
            " '___': <class 'int'>,\n",
            " '__annotations__': {'a': <class 'str'>, 'b': <class 'int'>},\n",
            " '__builtin__': <module 'builtins' (built-in)>,\n",
            " '__builtins__': <module 'builtins' (built-in)>,\n",
            " '__doc__': 'Automatically created module for IPython interactive environment',\n",
            " '__loader__': None,\n",
            " '__name__': '__main__',\n",
            " '__package__': None,\n",
            " '__spec__': None,\n",
            " '_dh': ['/content'],\n",
            " '_i': 'class MyClass(object):\\n'\n",
            "       '    def method_a(self):\\n'\n",
            "       '        # 여기에 pass 추가\\n'\n",
            "       '        pass\\n'\n",
            "       '\\n'\n",
            "       '    def method_b(self):\\n'\n",
            "       '        print(\"Method B\")\\n'\n",
            "       '\\n'\n",
            "       'c = MyClass()\\n'\n",
            "       '\\n'\n",
            "       '# pass는 널null 연산으로 아무것도 하지 않는 기능',\n",
            " '_i1': '함수 fizzbuzz()\\n'\n",
            "        '  for i=1 to 100\\n'\n",
            "        '    print_number = True\\n'\n",
            "        '\\n'\n",
            "        '    if i is 3으로 나눌 수 있다면\\n'\n",
            "        '      print \"Fizz\"\\n'\n",
            "        '      print_number = False\\n'\n",
            "        '\\n'\n",
            "        '    if i is 5로 나눌 수 있다면\\n'\n",
            "        '      print \"Buzz\"\\n'\n",
            "        '      print_number = False\\n'\n",
            "        '\\n'\n",
            "        '    if print_number = True\\n'\n",
            "        '      print i\\n'\n",
            "        '      \\n'\n",
            "        '    print 빈 줄',\n",
            " '_i10': 'from dataclasses import dataclass\\n'\n",
            "         '\\n'\n",
            "         '@dataclass\\n'\n",
            "         'class Rectangle:\\n'\n",
            "         '    width: int\\n'\n",
            "         '    height: int\\n'\n",
            "         '\\n'\n",
            "         '    def area(self):\\n'\n",
            "         '        return self.width * self.height\\n'\n",
            "         '\\n'\n",
            "         'rect = Rectangle(3, 4)\\n'\n",
            "         'print(rect.area())\\n'\n",
            "         '\\n'\n",
            "         '# 실무에서는 자주 쓰이는데 코테에서는 잘 안 쓰인다.\\n'\n",
            "         '# @dataclass 선언은 필수는 아니지만 여러 내부함수 기능도 자동으로 구현해줘서 편리함',\n",
            " '_i11': 'foo = long_function_name(var_one, var_two,\\n'\n",
            "         '                         var_three, var_four)\\n'\n",
            "         '# 첫번째 줄에 파라미터가 있으면 파라미터가 시작되는 부분에 보기 좋게\\n'\n",
            "         '\\n'\n",
            "         'def long_function_name(\\n'\n",
            "         '        var_one, var_two, var_three, \\n'\n",
            "         '        var_four):\\n'\n",
            "         '    print(var_one)\\n'\n",
            "         '# 없으면 공백 4칸 인덴트를 한 번 더 추가해 다른 행과 구분\\n'\n",
            "         '\\n'\n",
            "         'foo = long_function_name(\\n'\n",
            "         '    var_one, var_two,\\n'\n",
            "         '    var_three, var_four)\\n'\n",
            "         '# 여러 줄로 나워쓸 경우 다음 행과 구분되도록 인덴트 추가',\n",
            " '_i12': 'a: str = \"1\"\\n'\n",
            "         'b: int = 1\\n'\n",
            "         '\\n'\n",
            "         '# 대표적 동적 타이핑 언어임에도 PEP 484 문서에 타입을 지정하는 Type Hint 추가됨',\n",
            " '_i13': '# def fn(a):\\n'\n",
            "         '# 처럼 표기하면 빠르나 가독성 떨어지며 오류 발생할 수 있음. 입출력값 유형 알 수 없음. 따라서\\n'\n",
            "         '# def fn(a: int) -> bool:\\n'\n",
            "         '# 와 같이 입출력값의 유형을 알 수 있음. \\n'\n",
            "         'a: str = 1\\n'\n",
            "         'type(a)',\n",
            " '_i14': '# 그러나 위와 같이 문자열에 정수를 할당하는 식의 사용은 지양해야 함. 강제 규약이 아니다 보니 동적으로 할당될 수 '\n",
            "         '있음.\\n'\n",
            "         '# 온라인 코테에서는 $ pip install mypy 로 mypy를 설치해 타입 힌트 오류 점검할 수 있다. ',\n",
            " '_i15': '# $ pip install mypy\\n'\n",
            "         '# $ mypy solution.py\\n'\n",
            "         '# 타입 힌트가 잘못 지정되면 Incompatible return value type 오류가 발생함.',\n",
            " '_i16': 'list(map(lambda x: x + 10, [1, 2, 3]))\\n'\n",
            "         '# map, filter와 같은 함수형 기능을 지원하며 위와 같은 람다 표현식도 지원.',\n",
            " '_i17': '# 리스트 컴프리헨션 사용하면\\n[n * 2 for n in range(1, 10 + 1) if n % 2 == 1]',\n",
            " '_i18': '# 리스트 컴프리헨션 사용하지 않으면\\n'\n",
            "         '\\n'\n",
            "         'a = []\\n'\n",
            "         'for n in range(1, 10 + 1):\\n'\n",
            "         '    if n % 2 == 1:\\n'\n",
            "         '        a.append(n * 2)\\n'\n",
            "         '        \\n'\n",
            "         'a\\n'\n",
            "         '# 길고, a라는 별도의 리스트 변수 추가됨.',\n",
            " '_i19': '# 버전 2.7 이후에는 리스트 외에도 딕셔너리 등도 가능\\n'\n",
            "         'a = {key: value for key, value in original.items()}\\n'\n",
            "         '\\n'\n",
            "         '# 기존 정의 코드\\n'\n",
            "         'a = {}\\n'\n",
            "         'for key, value in original.items():\\n'\n",
            "         '    a[key] = value\\n'\n",
            "         '\\n'\n",
            "         '# 표현식이 2개를 넘으면 가독성 떨어짐',\n",
            " '_i2': '# 예시1\\nsum = 0\\nfor i in range (1, 10+1):\\n  sum += i\\nsum',\n",
            " '_i20': '# 기존 함수는 return 구문을 만나면 값을 반환하고 동작을 종료했음\\n'\n",
            "         '# yield 구문으로 제너레이터를 리턴할 수 있음(실행 중이던 값 양보?)\\n'\n",
            "         '# 중간값 반환 후 함수는 끝까지 실행됨\\n'\n",
            "         '\\n'\n",
            "         'def get_natural_number():\\n'\n",
            "         '    n = 0\\n'\n",
            "         '    while True:\\n'\n",
            "         '        n += 1\\n'\n",
            "         '        yield n\\n'\n",
            "         '\\n'\n",
            "         'get_natural_number()\\n'\n",
            "         '\\n'\n",
            "         '# 이 경우처럼 while True 구문은 종료 조건이 없으므로 계속해서 값을 내보낼 수 있다\\n'\n",
            "         '# 반환값이 제너레이터',\n",
            " '_i21': '# 다음 값은 next() 추출해 생성함\\n'\n",
            "         '\\n'\n",
            "         'g = get_natural_number()\\n'\n",
            "         'for _ in range(0,100):\\n'\n",
            "         '    print(next(g))',\n",
            " '_i22': 'def generator():\\n'\n",
            "         '    yield 1\\n'\n",
            "         \"    yield 'string'\\n\"\n",
            "         '    yield True\\n'\n",
            "         'g = generator()\\n'\n",
            "         'g\\n'\n",
            "         '\\n'\n",
            "         '# 여러 타입의 값을 하나의 함수에서 생성하는 것도 가능',\n",
            " '_i23': 'next(g)',\n",
            " '_i24': 'next(g)',\n",
            " '_i25': 'next(g)',\n",
            " '_i26': '# 제너레이터 방식을 활용하는 대표적 함수\\n# 주로 for문에서\\n\\n\\nlist(range(5))',\n",
            " '_i27': 'range(0,5)',\n",
            " '_i28': \"type(range(5))\\n\\n# 책에서는 <class 'range'>\",\n",
            " '_i29': \"for i in range(5):\\n    print(i, end= '')\",\n",
            " '_i3': '# 예시2\\ndel sum\\nsum = sum(i for i in range(1, 10+1))\\nsum',\n",
            " '_i30': '# range()는 range 클래스를 반환하며 for문에서 사용될 때는 내부적으로 제너레이터의 next()를 호출하듯 '\n",
            "         '다음 숫자 생성\\n'\n",
            "         '# 제너레이터 반환하듯 range 클래스만 리턴하면 숫자 100만개 생성하는 것도 무리가 없다.\\n'\n",
            "         '# 생성조건만 정해두고 필요할 때 꺼내서 씀\\n'\n",
            "         '\\n'\n",
            "         'a = [n for n in range(1000000)]\\n'\n",
            "         'b = range(1000000)',\n",
            " '_i31': 'len(a)',\n",
            " '_i32': 'len(b)',\n",
            " '_i33': 'len(a) == len(b)',\n",
            " '_i34': 'b',\n",
            " '_i35': 'type(b)',\n",
            " '_i36': 'sys.getsizeof(a)',\n",
            " '_i37': 'sys.getsizeof(b)\\n'\n",
            "         '# 에러가 나는데 책에서는 a 8697464, b 48\\n'\n",
            "         '# a에는 이미 생성된 값이 담겨 있고, b에는 생성 조건이 담겨 있다',\n",
            " '_i38': '# 열거하다. 순서가 있는 자료형(list, set, tuple, etc)을 인덱스를 포함한 enumerate 객체로 '\n",
            "         '반환\\n'\n",
            "         '\\n'\n",
            "         'a = [1,2,3,2,45,2,5]\\n'\n",
            "         'a',\n",
            " '_i39': 'enumerate(a)',\n",
            " '_i4': '# 예시3\\ndel sum\\nsum = sum(range(1, 10+1))\\nsum',\n",
            " '_i40': 'list(enumerate(a))\\n\\n# list()로 결과 추출, 인덱스 자동 부여',\n",
            " '_i41': \"# a = ['a1', 'b2', 'c3']가 있을 때 list의 인덱스와 값을 함께 출력하려면?\\n\"\n",
            "         '\\n'\n",
            "         \"a = ['a1', 'b2', 'c3']\\n\"\n",
            "         'for i in range(len(a)):\\n'\n",
            "         '    print(i, a[i])\\n'\n",
            "         '# a[i] 조회 작업은 불필요. 전체 길이를 조회해 루프를 처리해 깔끔하지 않음',\n",
            " '_i42': 'i = 0\\n'\n",
            "         'for v in a:\\n'\n",
            "         '    print(i, v)\\n'\n",
            "         '    i += 1\\n'\n",
            "         '# 값은 깔끔하게 처리하나 인덱스를 위한 변수가 별도로 존재해 불편',\n",
            " '_i43': 'for i, v in enumerate(a):\\n    print(i, v)',\n",
            " '_i44': '# 파이썬 2 이하에서 기본 연산자 /는 타입을 유지하는 특성 때문에 \\n'\n",
            "         '# 5/3을 입력하면 1 반환했음\\n'\n",
            "         '\\n'\n",
            "         '#파이썬 3+\\n'\n",
            "         '5/3',\n",
            " '_i45': '# PEP 238에서 동작 방식이 변경되면서 기존의 /를 //가 대체\\n'\n",
            "         '# 내림Floor Division 연산자, 몫Quotient을 구하는 연산자\\n'\n",
            "         '\\n'\n",
            "         'type(5/3)',\n",
            " '_i46': 'int(5/3)',\n",
            " '_i47': 'type(int(5/3))',\n",
            " '_i48': '# 나머지Remainder를 구하는 모듈로modulo 연산자는 %\\n5%3',\n",
            " '_i49': '# 몫과 나머지를 동시에 구할 때 몫과 나머지를 동시에 구할 때\\ndivmod(5,3)',\n",
            " '_i5': 'def are_equal(a, b):\\n  return a == b\\n\\nare_equal(10, 10.0)',\n",
            " '_i50': '# 코테 풀이 디버깅할 때 가장 많이 사용\\n# 실무에서는 디버거나 TDD 방식 등으로 디버깅',\n",
            " '_i51': \"print('A1', 'B2')\\n# 콤마로 구분, 한 칸 공백이 디폴트\",\n",
            " '_i52': \"print('A1', 'B2', sep = ',')\\n# sep 파라미터로 구분자를 콤마로 지정\",\n",
            " '_i53': \"print('aa', end = ' ')\\n\"\n",
            "         \"print('bb')\\n\"\n",
            "         '# 항상 줄바꿈을 하기 때문에 루프 값을 반복적으로 출력하면 디버깅에 어려움',\n",
            " '_i54': \"a = ['A', 'B']\\nprint(' '.join(a))\\n#list 출력할 때는 join()으로 묶어서 처리\",\n",
            " '_i55': 'idx = 1\\nfruit = \"Apple\"\\n\\n# idx에 1을 더해 fruit와 함께 출력하는 방법?',\n",
            " '_i56': \"print('{0}: {1}'.format(idx + 1, fruit))\\n# 인덱스와 같이\",\n",
            " '_i57': \"print('{}: {}'.format(idx + 1, fruit))\\n# 인덱스 생략 가능\",\n",
            " '_i58': '# 파이썬 3.6+\\n'\n",
            "         '# 뒤에 변수 부착할 필요, %나 format 없이 간결하게 인라인으로\\n'\n",
            "         \"print(f'{idx + 1}: {fruit}')\",\n",
            " '_i59': 'class MyClass(object):\\n'\n",
            "         '    def method_a(self):\\n'\n",
            "         '\\n'\n",
            "         '    def method_b(self):\\n'\n",
            "         '        print(\"Method B\")\\n'\n",
            "         '\\n'\n",
            "         'c = MyClass()\\n'\n",
            "         '\\n'\n",
            "         '# IndentationError: expected an indented block\\n'\n",
            "         '# method_a 가 아무런 처리도 하지 않았기 때문에',\n",
            " '_i6': '# Dynamic Typing 언어라 제네릭이 필요없으나 가독성을 위해 타입을 명시할 수 있다. 3장 76p\\n'\n",
            "        'from typing import TypeVar\\n'\n",
            "        '\\n'\n",
            "        \"T = TypeVar('T')\\n\"\n",
            "        \"U = TypeVar('U')\\n\"\n",
            "        '\\n'\n",
            "        'def are_equal(a: T, b: U) -> bool:\\n'\n",
            "        '   return a == b\\n'\n",
            "        '\\n'\n",
            "        'are_equal(10,10.0)',\n",
            " '_i60': 'class MyClass(object):\\n'\n",
            "         '    def method_a(self):\\n'\n",
            "         '        # 여기에 pass 추가\\n'\n",
            "         '        pass\\n'\n",
            "         '\\n'\n",
            "         '    def method_b(self):\\n'\n",
            "         '        print(\"Method B\")\\n'\n",
            "         '\\n'\n",
            "         'c = MyClass()\\n'\n",
            "         '\\n'\n",
            "         '# pass는 널null 연산으로 아무것도 하지 않는 기능',\n",
            " '_i61': '# 로컬에 선언된 모든 변수를 조회할 수 있음\\n'\n",
            "         '# 로컬 스코프에 제한해 조회하므로\\n'\n",
            "         '# 클래스의 특정 메소드 내부 혹은 함수 내부의 로컬 정보를 조회해\\n'\n",
            "         '# 잘못 선언하지 않았는지 확인할 수 있다\\n'\n",
            "         'import pprint\\n'\n",
            "         'pprint.pprint(locals())\\n'\n",
            "         '\\n'\n",
            "         '# pprint는 보기 좋게 줄바꿈 처리함\\n'\n",
            "         '# 클래스 메소드 내의 모든 로컬 변수 출력',\n",
            " '_i7': \"foo = ['A', 'B', 'C']\\nfor f in foo:\\n   print(f)\",\n",
            " '_i8': 'from collections import namedtuple\\n'\n",
            "        'MyStruct = namedtuple(\"MyStruct\", \"field1 field2 field3\")\\n'\n",
            "        'm = MyStruct(\"foo\", \"bar\", \"baz\")\\n'\n",
            "        '\\n'\n",
            "        '# 파이썬에는 구조체가 없고 클래스도 데이터 타입을 지정할 수 없어 namedtuple로 정의함',\n",
            " '_i9': '# python 3.7+\\n'\n",
            "        'from dataclasses import dataclass\\n'\n",
            "        '\\n'\n",
            "        '@dataclass\\n'\n",
            "        'class Product:\\n'\n",
            "        '    weight: int = None\\n'\n",
            "        '    price: float = None\\n'\n",
            "        '\\n'\n",
            "        'apple = Product()\\n'\n",
            "        'apple.price = 10\\n'\n",
            "        '\\n'\n",
            "        '# python 3.7 부터는 dataclass를 지원\\n'\n",
            "        '# @dataclass 데코레이션으로 타입 힌트와 함께 활용함으로써 구조체 형태로 정의할 수 있음\\n'\n",
            "        '# 초기화함수 지원, 출력 시 읽기 쉬운 포맷으로 출력\\n'\n",
            "        '# 3.6 이하 버전에서도 Backport 버전을 제공하므로 $pip install dataclasses 로 설치해 사용할 '\n",
            "        '수 있다.',\n",
            " '_ih': ['',\n",
            "         '함수 fizzbuzz()\\n'\n",
            "         '  for i=1 to 100\\n'\n",
            "         '    print_number = True\\n'\n",
            "         '\\n'\n",
            "         '    if i is 3으로 나눌 수 있다면\\n'\n",
            "         '      print \"Fizz\"\\n'\n",
            "         '      print_number = False\\n'\n",
            "         '\\n'\n",
            "         '    if i is 5로 나눌 수 있다면\\n'\n",
            "         '      print \"Buzz\"\\n'\n",
            "         '      print_number = False\\n'\n",
            "         '\\n'\n",
            "         '    if print_number = True\\n'\n",
            "         '      print i\\n'\n",
            "         '      \\n'\n",
            "         '    print 빈 줄',\n",
            "         '# 예시1\\nsum = 0\\nfor i in range (1, 10+1):\\n  sum += i\\nsum',\n",
            "         '# 예시2\\ndel sum\\nsum = sum(i for i in range(1, 10+1))\\nsum',\n",
            "         '# 예시3\\ndel sum\\nsum = sum(range(1, 10+1))\\nsum',\n",
            "         'def are_equal(a, b):\\n  return a == b\\n\\nare_equal(10, 10.0)',\n",
            "         '# Dynamic Typing 언어라 제네릭이 필요없으나 가독성을 위해 타입을 명시할 수 있다. 3장 76p\\n'\n",
            "         'from typing import TypeVar\\n'\n",
            "         '\\n'\n",
            "         \"T = TypeVar('T')\\n\"\n",
            "         \"U = TypeVar('U')\\n\"\n",
            "         '\\n'\n",
            "         'def are_equal(a: T, b: U) -> bool:\\n'\n",
            "         '   return a == b\\n'\n",
            "         '\\n'\n",
            "         'are_equal(10,10.0)',\n",
            "         \"foo = ['A', 'B', 'C']\\nfor f in foo:\\n   print(f)\",\n",
            "         'from collections import namedtuple\\n'\n",
            "         'MyStruct = namedtuple(\"MyStruct\", \"field1 field2 field3\")\\n'\n",
            "         'm = MyStruct(\"foo\", \"bar\", \"baz\")\\n'\n",
            "         '\\n'\n",
            "         '# 파이썬에는 구조체가 없고 클래스도 데이터 타입을 지정할 수 없어 namedtuple로 정의함',\n",
            "         '# python 3.7+\\n'\n",
            "         'from dataclasses import dataclass\\n'\n",
            "         '\\n'\n",
            "         '@dataclass\\n'\n",
            "         'class Product:\\n'\n",
            "         '    weight: int = None\\n'\n",
            "         '    price: float = None\\n'\n",
            "         '\\n'\n",
            "         'apple = Product()\\n'\n",
            "         'apple.price = 10\\n'\n",
            "         '\\n'\n",
            "         '# python 3.7 부터는 dataclass를 지원\\n'\n",
            "         '# @dataclass 데코레이션으로 타입 힌트와 함께 활용함으로써 구조체 형태로 정의할 수 있음\\n'\n",
            "         '# 초기화함수 지원, 출력 시 읽기 쉬운 포맷으로 출력\\n'\n",
            "         '# 3.6 이하 버전에서도 Backport 버전을 제공하므로 $pip install dataclasses 로 설치해 사용할 '\n",
            "         '수 있다.',\n",
            "         'from dataclasses import dataclass\\n'\n",
            "         '\\n'\n",
            "         '@dataclass\\n'\n",
            "         'class Rectangle:\\n'\n",
            "         '    width: int\\n'\n",
            "         '    height: int\\n'\n",
            "         '\\n'\n",
            "         '    def area(self):\\n'\n",
            "         '        return self.width * self.height\\n'\n",
            "         '\\n'\n",
            "         'rect = Rectangle(3, 4)\\n'\n",
            "         'print(rect.area())\\n'\n",
            "         '\\n'\n",
            "         '# 실무에서는 자주 쓰이는데 코테에서는 잘 안 쓰인다.\\n'\n",
            "         '# @dataclass 선언은 필수는 아니지만 여러 내부함수 기능도 자동으로 구현해줘서 편리함',\n",
            "         'foo = long_function_name(var_one, var_two,\\n'\n",
            "         '                         var_three, var_four)\\n'\n",
            "         '# 첫번째 줄에 파라미터가 있으면 파라미터가 시작되는 부분에 보기 좋게\\n'\n",
            "         '\\n'\n",
            "         'def long_function_name(\\n'\n",
            "         '        var_one, var_two, var_three, \\n'\n",
            "         '        var_four):\\n'\n",
            "         '    print(var_one)\\n'\n",
            "         '# 없으면 공백 4칸 인덴트를 한 번 더 추가해 다른 행과 구분\\n'\n",
            "         '\\n'\n",
            "         'foo = long_function_name(\\n'\n",
            "         '    var_one, var_two,\\n'\n",
            "         '    var_three, var_four)\\n'\n",
            "         '# 여러 줄로 나워쓸 경우 다음 행과 구분되도록 인덴트 추가',\n",
            "         'a: str = \"1\"\\n'\n",
            "         'b: int = 1\\n'\n",
            "         '\\n'\n",
            "         '# 대표적 동적 타이핑 언어임에도 PEP 484 문서에 타입을 지정하는 Type Hint 추가됨',\n",
            "         '# def fn(a):\\n'\n",
            "         '# 처럼 표기하면 빠르나 가독성 떨어지며 오류 발생할 수 있음. 입출력값 유형 알 수 없음. 따라서\\n'\n",
            "         '# def fn(a: int) -> bool:\\n'\n",
            "         '# 와 같이 입출력값의 유형을 알 수 있음. \\n'\n",
            "         'a: str = 1\\n'\n",
            "         'type(a)',\n",
            "         '# 그러나 위와 같이 문자열에 정수를 할당하는 식의 사용은 지양해야 함. 강제 규약이 아니다 보니 동적으로 할당될 수 '\n",
            "         '있음.\\n'\n",
            "         '# 온라인 코테에서는 $ pip install mypy 로 mypy를 설치해 타입 힌트 오류 점검할 수 있다. ',\n",
            "         '# $ pip install mypy\\n'\n",
            "         '# $ mypy solution.py\\n'\n",
            "         '# 타입 힌트가 잘못 지정되면 Incompatible return value type 오류가 발생함.',\n",
            "         'list(map(lambda x: x + 10, [1, 2, 3]))\\n'\n",
            "         '# map, filter와 같은 함수형 기능을 지원하며 위와 같은 람다 표현식도 지원.',\n",
            "         '# 리스트 컴프리헨션 사용하면\\n[n * 2 for n in range(1, 10 + 1) if n % 2 == 1]',\n",
            "         '# 리스트 컴프리헨션 사용하지 않으면\\n'\n",
            "         '\\n'\n",
            "         'a = []\\n'\n",
            "         'for n in range(1, 10 + 1):\\n'\n",
            "         '    if n % 2 == 1:\\n'\n",
            "         '        a.append(n * 2)\\n'\n",
            "         '        \\n'\n",
            "         'a\\n'\n",
            "         '# 길고, a라는 별도의 리스트 변수 추가됨.',\n",
            "         '# 버전 2.7 이후에는 리스트 외에도 딕셔너리 등도 가능\\n'\n",
            "         'a = {key: value for key, value in original.items()}\\n'\n",
            "         '\\n'\n",
            "         '# 기존 정의 코드\\n'\n",
            "         'a = {}\\n'\n",
            "         'for key, value in original.items():\\n'\n",
            "         '    a[key] = value\\n'\n",
            "         '\\n'\n",
            "         '# 표현식이 2개를 넘으면 가독성 떨어짐',\n",
            "         '# 기존 함수는 return 구문을 만나면 값을 반환하고 동작을 종료했음\\n'\n",
            "         '# yield 구문으로 제너레이터를 리턴할 수 있음(실행 중이던 값 양보?)\\n'\n",
            "         '# 중간값 반환 후 함수는 끝까지 실행됨\\n'\n",
            "         '\\n'\n",
            "         'def get_natural_number():\\n'\n",
            "         '    n = 0\\n'\n",
            "         '    while True:\\n'\n",
            "         '        n += 1\\n'\n",
            "         '        yield n\\n'\n",
            "         '\\n'\n",
            "         'get_natural_number()\\n'\n",
            "         '\\n'\n",
            "         '# 이 경우처럼 while True 구문은 종료 조건이 없으므로 계속해서 값을 내보낼 수 있다\\n'\n",
            "         '# 반환값이 제너레이터',\n",
            "         '# 다음 값은 next() 추출해 생성함\\n'\n",
            "         '\\n'\n",
            "         'g = get_natural_number()\\n'\n",
            "         'for _ in range(0,100):\\n'\n",
            "         '    print(next(g))',\n",
            "         'def generator():\\n'\n",
            "         '    yield 1\\n'\n",
            "         \"    yield 'string'\\n\"\n",
            "         '    yield True\\n'\n",
            "         'g = generator()\\n'\n",
            "         'g\\n'\n",
            "         '\\n'\n",
            "         '# 여러 타입의 값을 하나의 함수에서 생성하는 것도 가능',\n",
            "         'next(g)',\n",
            "         'next(g)',\n",
            "         'next(g)',\n",
            "         '# 제너레이터 방식을 활용하는 대표적 함수\\n# 주로 for문에서\\n\\n\\nlist(range(5))',\n",
            "         'range(0,5)',\n",
            "         \"type(range(5))\\n\\n# 책에서는 <class 'range'>\",\n",
            "         \"for i in range(5):\\n    print(i, end= '')\",\n",
            "         '# range()는 range 클래스를 반환하며 for문에서 사용될 때는 내부적으로 제너레이터의 next()를 호출하듯 '\n",
            "         '다음 숫자 생성\\n'\n",
            "         '# 제너레이터 반환하듯 range 클래스만 리턴하면 숫자 100만개 생성하는 것도 무리가 없다.\\n'\n",
            "         '# 생성조건만 정해두고 필요할 때 꺼내서 씀\\n'\n",
            "         '\\n'\n",
            "         'a = [n for n in range(1000000)]\\n'\n",
            "         'b = range(1000000)',\n",
            "         'len(a)',\n",
            "         'len(b)',\n",
            "         'len(a) == len(b)',\n",
            "         'b',\n",
            "         'type(b)',\n",
            "         'sys.getsizeof(a)',\n",
            "         'sys.getsizeof(b)\\n'\n",
            "         '# 에러가 나는데 책에서는 a 8697464, b 48\\n'\n",
            "         '# a에는 이미 생성된 값이 담겨 있고, b에는 생성 조건이 담겨 있다',\n",
            "         '# 열거하다. 순서가 있는 자료형(list, set, tuple, etc)을 인덱스를 포함한 enumerate 객체로 '\n",
            "         '반환\\n'\n",
            "         '\\n'\n",
            "         'a = [1,2,3,2,45,2,5]\\n'\n",
            "         'a',\n",
            "         'enumerate(a)',\n",
            "         'list(enumerate(a))\\n\\n# list()로 결과 추출, 인덱스 자동 부여',\n",
            "         \"# a = ['a1', 'b2', 'c3']가 있을 때 list의 인덱스와 값을 함께 출력하려면?\\n\"\n",
            "         '\\n'\n",
            "         \"a = ['a1', 'b2', 'c3']\\n\"\n",
            "         'for i in range(len(a)):\\n'\n",
            "         '    print(i, a[i])\\n'\n",
            "         '# a[i] 조회 작업은 불필요. 전체 길이를 조회해 루프를 처리해 깔끔하지 않음',\n",
            "         'i = 0\\n'\n",
            "         'for v in a:\\n'\n",
            "         '    print(i, v)\\n'\n",
            "         '    i += 1\\n'\n",
            "         '# 값은 깔끔하게 처리하나 인덱스를 위한 변수가 별도로 존재해 불편',\n",
            "         'for i, v in enumerate(a):\\n    print(i, v)',\n",
            "         '# 파이썬 2 이하에서 기본 연산자 /는 타입을 유지하는 특성 때문에 \\n'\n",
            "         '# 5/3을 입력하면 1 반환했음\\n'\n",
            "         '\\n'\n",
            "         '#파이썬 3+\\n'\n",
            "         '5/3',\n",
            "         '# PEP 238에서 동작 방식이 변경되면서 기존의 /를 //가 대체\\n'\n",
            "         '# 내림Floor Division 연산자, 몫Quotient을 구하는 연산자\\n'\n",
            "         '\\n'\n",
            "         'type(5/3)',\n",
            "         'int(5/3)',\n",
            "         'type(int(5/3))',\n",
            "         '# 나머지Remainder를 구하는 모듈로modulo 연산자는 %\\n5%3',\n",
            "         '# 몫과 나머지를 동시에 구할 때 몫과 나머지를 동시에 구할 때\\ndivmod(5,3)',\n",
            "         '# 코테 풀이 디버깅할 때 가장 많이 사용\\n# 실무에서는 디버거나 TDD 방식 등으로 디버깅',\n",
            "         \"print('A1', 'B2')\\n# 콤마로 구분, 한 칸 공백이 디폴트\",\n",
            "         \"print('A1', 'B2', sep = ',')\\n# sep 파라미터로 구분자를 콤마로 지정\",\n",
            "         \"print('aa', end = ' ')\\n\"\n",
            "         \"print('bb')\\n\"\n",
            "         '# 항상 줄바꿈을 하기 때문에 루프 값을 반복적으로 출력하면 디버깅에 어려움',\n",
            "         \"a = ['A', 'B']\\nprint(' '.join(a))\\n#list 출력할 때는 join()으로 묶어서 처리\",\n",
            "         'idx = 1\\nfruit = \"Apple\"\\n\\n# idx에 1을 더해 fruit와 함께 출력하는 방법?',\n",
            "         \"print('{0}: {1}'.format(idx + 1, fruit))\\n# 인덱스와 같이\",\n",
            "         \"print('{}: {}'.format(idx + 1, fruit))\\n# 인덱스 생략 가능\",\n",
            "         '# 파이썬 3.6+\\n'\n",
            "         '# 뒤에 변수 부착할 필요, %나 format 없이 간결하게 인라인으로\\n'\n",
            "         \"print(f'{idx + 1}: {fruit}')\",\n",
            "         'class MyClass(object):\\n'\n",
            "         '    def method_a(self):\\n'\n",
            "         '\\n'\n",
            "         '    def method_b(self):\\n'\n",
            "         '        print(\"Method B\")\\n'\n",
            "         '\\n'\n",
            "         'c = MyClass()\\n'\n",
            "         '\\n'\n",
            "         '# IndentationError: expected an indented block\\n'\n",
            "         '# method_a 가 아무런 처리도 하지 않았기 때문에',\n",
            "         'class MyClass(object):\\n'\n",
            "         '    def method_a(self):\\n'\n",
            "         '        # 여기에 pass 추가\\n'\n",
            "         '        pass\\n'\n",
            "         '\\n'\n",
            "         '    def method_b(self):\\n'\n",
            "         '        print(\"Method B\")\\n'\n",
            "         '\\n'\n",
            "         'c = MyClass()\\n'\n",
            "         '\\n'\n",
            "         '# pass는 널null 연산으로 아무것도 하지 않는 기능',\n",
            "         '# 로컬에 선언된 모든 변수를 조회할 수 있음\\n'\n",
            "         '# 로컬 스코프에 제한해 조회하므로\\n'\n",
            "         '# 클래스의 특정 메소드 내부 혹은 함수 내부의 로컬 정보를 조회해\\n'\n",
            "         '# 잘못 선언하지 않았는지 확인할 수 있다\\n'\n",
            "         'import pprint\\n'\n",
            "         'pprint.pprint(locals())\\n'\n",
            "         '\\n'\n",
            "         '# pprint는 보기 좋게 줄바꿈 처리함\\n'\n",
            "         '# 클래스 메소드 내의 모든 로컬 변수 출력'],\n",
            " '_ii': 'class MyClass(object):\\n'\n",
            "        '    def method_a(self):\\n'\n",
            "        '\\n'\n",
            "        '    def method_b(self):\\n'\n",
            "        '        print(\"Method B\")\\n'\n",
            "        '\\n'\n",
            "        'c = MyClass()\\n'\n",
            "        '\\n'\n",
            "        '# IndentationError: expected an indented block\\n'\n",
            "        '# method_a 가 아무런 처리도 하지 않았기 때문에',\n",
            " '_iii': '# 파이썬 3.6+\\n'\n",
            "         '# 뒤에 변수 부착할 필요, %나 format 없이 간결하게 인라인으로\\n'\n",
            "         \"print(f'{idx + 1}: {fruit}')\",\n",
            " '_oh': {2: 55,\n",
            "         3: 55,\n",
            "         4: 55,\n",
            "         5: True,\n",
            "         6: True,\n",
            "         13: <class 'int'>,\n",
            "         16: [11, 12, 13],\n",
            "         17: [2, 6, 10, 14, 18],\n",
            "         18: [2, 6, 10, 14, 18],\n",
            "         20: <generator object get_natural_number at 0x7fd868c92f50>,\n",
            "         22: <generator object generator at 0x7fd868c92dd0>,\n",
            "         23: 1,\n",
            "         24: 'string',\n",
            "         25: True,\n",
            "         26: [0, 1, 2, 3, 4],\n",
            "         27: range(0, 5),\n",
            "         28: <class 'range'>,\n",
            "         31: 1000000,\n",
            "         32: 1000000,\n",
            "         33: True,\n",
            "         34: range(0, 1000000),\n",
            "         35: <class 'range'>,\n",
            "         38: [1, 2, 3, 2, 45, 2, 5],\n",
            "         39: <enumerate object at 0x7fd868c99780>,\n",
            "         40: [(0, 1), (1, 2), (2, 3), (3, 2), (4, 45), (5, 2), (6, 5)],\n",
            "         44: 1.6666666666666667,\n",
            "         45: <class 'float'>,\n",
            "         46: 1,\n",
            "         47: <class 'int'>,\n",
            "         48: 2,\n",
            "         49: (1, 2)},\n",
            " '_sh': <module 'IPython.core.shadowns' from '/usr/local/lib/python3.7/dist-packages/IPython/core/shadowns.py'>,\n",
            " 'a': ['A', 'B'],\n",
            " 'apple': Product(weight=None, price=10),\n",
            " 'are_equal': <function are_equal at 0x7fd8695c6b90>,\n",
            " 'b': range(0, 1000000),\n",
            " 'c': <__main__.MyClass object at 0x7fd868d13650>,\n",
            " 'dataclass': <function dataclass at 0x7fd868d25cb0>,\n",
            " 'exit': <IPython.core.autocall.ZMQExitAutocall object at 0x7fd86bb813d0>,\n",
            " 'f': 'C',\n",
            " 'foo': ['A', 'B', 'C'],\n",
            " 'fruit': 'Apple',\n",
            " 'g': <generator object generator at 0x7fd868c92dd0>,\n",
            " 'generator': <function generator at 0x7fd868c8d9e0>,\n",
            " 'get_ipython': <bound method InteractiveShell.get_ipython of <google.colab._shell.Shell object at 0x7fd86e3de0d0>>,\n",
            " 'get_natural_number': <function get_natural_number at 0x7fd868c8d8c0>,\n",
            " 'i': 2,\n",
            " 'idx': 1,\n",
            " 'm': MyStruct(field1='foo', field2='bar', field3='baz'),\n",
            " 'n': 10,\n",
            " 'namedtuple': <function namedtuple at 0x7fd889ff3290>,\n",
            " 'pprint': <module 'pprint' from '/usr/lib/python3.7/pprint.py'>,\n",
            " 'quit': <IPython.core.autocall.ZMQExitAutocall object at 0x7fd86bb813d0>,\n",
            " 'rect': Rectangle(width=3, height=4),\n",
            " 'sum': 55,\n",
            " 'v': 'c3'}\n"
          ],
          "name": "stdout"
        }
      ]
    },
    {
      "cell_type": "markdown",
      "metadata": {
        "id": "j1IMtEHqHFvw"
      },
      "source": [
        "## 변수명과 주석  \r\n",
        "### 92p~93p"
      ]
    },
    {
      "cell_type": "code",
      "metadata": {
        "id": "d6PA0znxGoFB",
        "colab": {
          "base_uri": "https://localhost:8080/",
          "height": 239
        },
        "outputId": "a6525d00-b15d-4792-9c25-3a65d5e9a33a"
      },
      "source": [
        "def numMatchingSubseq(self, S:str, words: List[str]) -> int:\r\n",
        "    a = 0\r\n",
        "\r\n",
        "    for b in words:\r\n",
        "        c = 0\r\n",
        "        for i in range(len(b)):\r\n",
        "            d = S[c:].find(b[i])\r\n",
        "            if d < 0:\r\n",
        "                a -= 1\r\n",
        "                break\r\n",
        "            else:\r\n",
        "                c += d + 1\r\n",
        "        a += 1\r\n",
        "    return a\r\n",
        "\r\n",
        "# 문자열에 매칭된 서브 시퀀스의 개수를 구하는 코드\r\n",
        "# 주석 없이, 변수 아무렇게나\r\n",
        "# 변수와 코드 동작방식 파악 어려움"
      ],
      "execution_count": 62,
      "outputs": [
        {
          "output_type": "error",
          "ename": "NameError",
          "evalue": "ignored",
          "traceback": [
            "\u001b[0;31m---------------------------------------------------------------------------\u001b[0m",
            "\u001b[0;31mNameError\u001b[0m                                 Traceback (most recent call last)",
            "\u001b[0;32m<ipython-input-62-6d17946238f9>\u001b[0m in \u001b[0;36m<module>\u001b[0;34m()\u001b[0m\n\u001b[0;32m----> 1\u001b[0;31m \u001b[0;32mdef\u001b[0m \u001b[0mnumMatchingSubseq\u001b[0m\u001b[0;34m(\u001b[0m\u001b[0mself\u001b[0m\u001b[0;34m,\u001b[0m \u001b[0mS\u001b[0m\u001b[0;34m:\u001b[0m\u001b[0mstr\u001b[0m\u001b[0;34m,\u001b[0m \u001b[0mwords\u001b[0m\u001b[0;34m:\u001b[0m \u001b[0mList\u001b[0m\u001b[0;34m[\u001b[0m\u001b[0mstr\u001b[0m\u001b[0;34m]\u001b[0m\u001b[0;34m)\u001b[0m \u001b[0;34m->\u001b[0m \u001b[0mint\u001b[0m\u001b[0;34m:\u001b[0m\u001b[0;34m\u001b[0m\u001b[0;34m\u001b[0m\u001b[0m\n\u001b[0m\u001b[1;32m      2\u001b[0m     \u001b[0ma\u001b[0m \u001b[0;34m=\u001b[0m \u001b[0;36m0\u001b[0m\u001b[0;34m\u001b[0m\u001b[0;34m\u001b[0m\u001b[0m\n\u001b[1;32m      3\u001b[0m \u001b[0;34m\u001b[0m\u001b[0m\n\u001b[1;32m      4\u001b[0m     \u001b[0;32mfor\u001b[0m \u001b[0mb\u001b[0m \u001b[0;32min\u001b[0m \u001b[0mwords\u001b[0m\u001b[0;34m:\u001b[0m\u001b[0;34m\u001b[0m\u001b[0;34m\u001b[0m\u001b[0m\n\u001b[1;32m      5\u001b[0m         \u001b[0mc\u001b[0m \u001b[0;34m=\u001b[0m \u001b[0;36m0\u001b[0m\u001b[0;34m\u001b[0m\u001b[0;34m\u001b[0m\u001b[0m\n",
            "\u001b[0;31mNameError\u001b[0m: name 'List' is not defined"
          ]
        }
      ]
    },
    {
      "cell_type": "code",
      "metadata": {
        "id": "K2jS-D7gIeJV",
        "colab": {
          "base_uri": "https://localhost:8080/",
          "height": 239
        },
        "outputId": "39fc96d3-3801-4aea-f2b9-1aef696321c3"
      },
      "source": [
        "def numMatchingSubseq(self, S: str, words: List[str]) -> int:\r\n",
        "    matched_count = 0\r\n",
        "\r\n",
        "    for word in words:\r\n",
        "       #Find matching position for each character.\r\n",
        "       found_pos = S[pos:].find(word[i])\r\n",
        "       if found_pos < 0:\r\n",
        "           matched_count -= 1\r\n",
        "           break\r\n",
        "       else: #If found, take step position forward.\r\n",
        "           pos += found_pos + 1\r\n",
        "    matched_count += 1\r\n",
        "\r\n",
        "return matched_count\r\n",
        "\r\n",
        "# 의미가 있으며 카멜케이스 아닌 스네이크케이스로 작성된 이름\r\n",
        "# 자세한 주석\r\n",
        "# 함수명은 카멜 케이스인데 리트코드 문제에 주어진 함수명이라 변경하지 못했음"
      ],
      "execution_count": 63,
      "outputs": [
        {
          "output_type": "error",
          "ename": "NameError",
          "evalue": "ignored",
          "traceback": [
            "\u001b[0;31m---------------------------------------------------------------------------\u001b[0m",
            "\u001b[0;31mNameError\u001b[0m                                 Traceback (most recent call last)",
            "\u001b[0;32m<ipython-input-63-448e24682088>\u001b[0m in \u001b[0;36m<module>\u001b[0;34m()\u001b[0m\n\u001b[0;32m----> 1\u001b[0;31m \u001b[0;32mdef\u001b[0m \u001b[0mnumMatchingSubseq\u001b[0m\u001b[0;34m(\u001b[0m\u001b[0mself\u001b[0m\u001b[0;34m,\u001b[0m \u001b[0mS\u001b[0m\u001b[0;34m:\u001b[0m \u001b[0mstr\u001b[0m\u001b[0;34m,\u001b[0m \u001b[0mwords\u001b[0m\u001b[0;34m:\u001b[0m \u001b[0mList\u001b[0m\u001b[0;34m[\u001b[0m\u001b[0mstr\u001b[0m\u001b[0;34m]\u001b[0m\u001b[0;34m)\u001b[0m \u001b[0;34m->\u001b[0m \u001b[0mint\u001b[0m\u001b[0;34m:\u001b[0m\u001b[0;34m\u001b[0m\u001b[0;34m\u001b[0m\u001b[0m\n\u001b[0m\u001b[1;32m      2\u001b[0m     \u001b[0mmatched_count\u001b[0m \u001b[0;34m=\u001b[0m \u001b[0;36m0\u001b[0m\u001b[0;34m\u001b[0m\u001b[0;34m\u001b[0m\u001b[0m\n\u001b[1;32m      3\u001b[0m \u001b[0;34m\u001b[0m\u001b[0m\n\u001b[1;32m      4\u001b[0m     \u001b[0;32mfor\u001b[0m \u001b[0mword\u001b[0m \u001b[0;32min\u001b[0m \u001b[0mwords\u001b[0m\u001b[0;34m:\u001b[0m\u001b[0;34m\u001b[0m\u001b[0;34m\u001b[0m\u001b[0m\n\u001b[1;32m      5\u001b[0m        \u001b[0;31m#Find matching position for each character.\u001b[0m\u001b[0;34m\u001b[0m\u001b[0;34m\u001b[0m\u001b[0;34m\u001b[0m\u001b[0m\n",
            "\u001b[0;31mNameError\u001b[0m: name 'List' is not defined"
          ]
        }
      ]
    },
    {
      "cell_type": "markdown",
      "metadata": {
        "id": "KUblvFxVJUJy"
      },
      "source": [
        "## 리스트 컴프리헨션  \r\n",
        "### 94p~95p"
      ]
    },
    {
      "cell_type": "code",
      "metadata": {
        "id": "qFCrt5jlJeeW",
        "colab": {
          "base_uri": "https://localhost:8080/",
          "height": 204
        },
        "outputId": "84c53c6d-d329-41b1-ba78-865162ddfa3d"
      },
      "source": [
        "# 문법과 의미를 축약하는 특징 탓에 가독성이 떨어지기도 함\r\n",
        "str1s = [str1[i:i + 2].lower() for i in range(len(str1) - 1) if re.findall('[a-z]{2}', str1[i:i+2].lower())]"
      ],
      "execution_count": 64,
      "outputs": [
        {
          "output_type": "error",
          "ename": "NameError",
          "evalue": "ignored",
          "traceback": [
            "\u001b[0;31m---------------------------------------------------------------------------\u001b[0m",
            "\u001b[0;31mNameError\u001b[0m                                 Traceback (most recent call last)",
            "\u001b[0;32m<ipython-input-64-5464592b184a>\u001b[0m in \u001b[0;36m<module>\u001b[0;34m()\u001b[0m\n\u001b[1;32m      1\u001b[0m \u001b[0;31m# 문법과 의미를 축약하는 특징 탓에 가독성이 떨어지기도 함\u001b[0m\u001b[0;34m\u001b[0m\u001b[0;34m\u001b[0m\u001b[0;34m\u001b[0m\u001b[0m\n\u001b[0;32m----> 2\u001b[0;31m \u001b[0mstr1s\u001b[0m \u001b[0;34m=\u001b[0m \u001b[0;34m[\u001b[0m\u001b[0mstr1\u001b[0m\u001b[0;34m[\u001b[0m\u001b[0mi\u001b[0m\u001b[0;34m:\u001b[0m\u001b[0mi\u001b[0m \u001b[0;34m+\u001b[0m \u001b[0;36m2\u001b[0m\u001b[0;34m]\u001b[0m\u001b[0;34m.\u001b[0m\u001b[0mlower\u001b[0m\u001b[0;34m(\u001b[0m\u001b[0;34m)\u001b[0m \u001b[0;32mfor\u001b[0m \u001b[0mi\u001b[0m \u001b[0;32min\u001b[0m \u001b[0mrange\u001b[0m\u001b[0;34m(\u001b[0m\u001b[0mlen\u001b[0m\u001b[0;34m(\u001b[0m\u001b[0mstr1\u001b[0m\u001b[0;34m)\u001b[0m \u001b[0;34m-\u001b[0m \u001b[0;36m1\u001b[0m\u001b[0;34m)\u001b[0m \u001b[0;32mif\u001b[0m \u001b[0mre\u001b[0m\u001b[0;34m.\u001b[0m\u001b[0mfindall\u001b[0m\u001b[0;34m(\u001b[0m\u001b[0;34m'[a-z]{2}'\u001b[0m\u001b[0;34m,\u001b[0m \u001b[0mstr1\u001b[0m\u001b[0;34m[\u001b[0m\u001b[0mi\u001b[0m\u001b[0;34m:\u001b[0m\u001b[0mi\u001b[0m\u001b[0;34m+\u001b[0m\u001b[0;36m2\u001b[0m\u001b[0;34m]\u001b[0m\u001b[0;34m.\u001b[0m\u001b[0mlower\u001b[0m\u001b[0;34m(\u001b[0m\u001b[0;34m)\u001b[0m\u001b[0;34m)\u001b[0m\u001b[0;34m]\u001b[0m\u001b[0;34m\u001b[0m\u001b[0;34m\u001b[0m\u001b[0m\n\u001b[0m",
            "\u001b[0;31mNameError\u001b[0m: name 'str1' is not defined"
          ]
        }
      ]
    },
    {
      "cell_type": "code",
      "metadata": {
        "colab": {
          "base_uri": "https://localhost:8080/",
          "height": 239
        },
        "id": "-zFpHLmYKCyt",
        "outputId": "4ec198c8-79e0-4d84-d5f4-47aefcd98659"
      },
      "source": [
        "# 역할에 따라 줄바꿈\r\n",
        "str1s = [\r\n",
        "         str1[i:i + 2].lower() for i in range(len(str1) - 1) \r\n",
        "         if re.findall('[a-z]{2}', str1[i:i+2].lower())\r\n",
        "]\r\n",
        "\r\n",
        "# 표현식이 2개를 넘지 않으며 라인을 여유있게 활용하였으나 가독성 여전히 낮음"
      ],
      "execution_count": 65,
      "outputs": [
        {
          "output_type": "error",
          "ename": "NameError",
          "evalue": "ignored",
          "traceback": [
            "\u001b[0;31m---------------------------------------------------------------------------\u001b[0m",
            "\u001b[0;31mNameError\u001b[0m                                 Traceback (most recent call last)",
            "\u001b[0;32m<ipython-input-65-42c08a8c38a3>\u001b[0m in \u001b[0;36m<module>\u001b[0;34m()\u001b[0m\n\u001b[1;32m      1\u001b[0m \u001b[0;31m# 역할에 따라 줄바꿈\u001b[0m\u001b[0;34m\u001b[0m\u001b[0;34m\u001b[0m\u001b[0;34m\u001b[0m\u001b[0m\n\u001b[1;32m      2\u001b[0m str1s = [\n\u001b[0;32m----> 3\u001b[0;31m          \u001b[0mstr1\u001b[0m\u001b[0;34m[\u001b[0m\u001b[0mi\u001b[0m\u001b[0;34m:\u001b[0m\u001b[0mi\u001b[0m \u001b[0;34m+\u001b[0m \u001b[0;36m2\u001b[0m\u001b[0;34m]\u001b[0m\u001b[0;34m.\u001b[0m\u001b[0mlower\u001b[0m\u001b[0;34m(\u001b[0m\u001b[0;34m)\u001b[0m \u001b[0;32mfor\u001b[0m \u001b[0mi\u001b[0m \u001b[0;32min\u001b[0m \u001b[0mrange\u001b[0m\u001b[0;34m(\u001b[0m\u001b[0mlen\u001b[0m\u001b[0;34m(\u001b[0m\u001b[0mstr1\u001b[0m\u001b[0;34m)\u001b[0m \u001b[0;34m-\u001b[0m \u001b[0;36m1\u001b[0m\u001b[0;34m)\u001b[0m\u001b[0;34m\u001b[0m\u001b[0;34m\u001b[0m\u001b[0m\n\u001b[0m\u001b[1;32m      4\u001b[0m          \u001b[0;32mif\u001b[0m \u001b[0mre\u001b[0m\u001b[0;34m.\u001b[0m\u001b[0mfindall\u001b[0m\u001b[0;34m(\u001b[0m\u001b[0;34m'[a-z]{2}'\u001b[0m\u001b[0;34m,\u001b[0m \u001b[0mstr1\u001b[0m\u001b[0;34m[\u001b[0m\u001b[0mi\u001b[0m\u001b[0;34m:\u001b[0m\u001b[0mi\u001b[0m\u001b[0;34m+\u001b[0m\u001b[0;36m2\u001b[0m\u001b[0;34m]\u001b[0m\u001b[0;34m.\u001b[0m\u001b[0mlower\u001b[0m\u001b[0;34m(\u001b[0m\u001b[0;34m)\u001b[0m\u001b[0;34m)\u001b[0m\u001b[0;34m\u001b[0m\u001b[0;34m\u001b[0m\u001b[0m\n\u001b[1;32m      5\u001b[0m ]\n",
            "\u001b[0;31mNameError\u001b[0m: name 'str1' is not defined"
          ]
        }
      ]
    },
    {
      "cell_type": "code",
      "metadata": {
        "id": "1BANLJLwKlV9",
        "colab": {
          "base_uri": "https://localhost:8080/",
          "height": 239
        },
        "outputId": "16489aac-f3c6-44ba-9a5f-a7b3e96f21e7"
      },
      "source": [
        "str1s = []\r\n",
        "for i in range(len(str1) - 1):\r\n",
        "    if re.findall('[a-z]{2}', str1[i:i+2].lower()):\r\n",
        "        str1s.append(str1[i:i+2].lower())\r\n",
        "\r\n",
        "# 다 풀어서 쓴 코드\r\n",
        "# 코드를 정방향으로 읽을 수 있어 가독성 나쁘지 않음"
      ],
      "execution_count": 66,
      "outputs": [
        {
          "output_type": "error",
          "ename": "NameError",
          "evalue": "ignored",
          "traceback": [
            "\u001b[0;31m---------------------------------------------------------------------------\u001b[0m",
            "\u001b[0;31mNameError\u001b[0m                                 Traceback (most recent call last)",
            "\u001b[0;32m<ipython-input-66-34cc98b8442f>\u001b[0m in \u001b[0;36m<module>\u001b[0;34m()\u001b[0m\n\u001b[1;32m      1\u001b[0m \u001b[0mstr1s\u001b[0m \u001b[0;34m=\u001b[0m \u001b[0;34m[\u001b[0m\u001b[0;34m]\u001b[0m\u001b[0;34m\u001b[0m\u001b[0;34m\u001b[0m\u001b[0m\n\u001b[0;32m----> 2\u001b[0;31m \u001b[0;32mfor\u001b[0m \u001b[0mi\u001b[0m \u001b[0;32min\u001b[0m \u001b[0mrange\u001b[0m\u001b[0;34m(\u001b[0m\u001b[0mlen\u001b[0m\u001b[0;34m(\u001b[0m\u001b[0mstr1\u001b[0m\u001b[0;34m)\u001b[0m \u001b[0;34m-\u001b[0m \u001b[0;36m1\u001b[0m\u001b[0;34m)\u001b[0m\u001b[0;34m:\u001b[0m\u001b[0;34m\u001b[0m\u001b[0;34m\u001b[0m\u001b[0m\n\u001b[0m\u001b[1;32m      3\u001b[0m     \u001b[0;32mif\u001b[0m \u001b[0mre\u001b[0m\u001b[0;34m.\u001b[0m\u001b[0mfindall\u001b[0m\u001b[0;34m(\u001b[0m\u001b[0;34m'[a-z]{2}'\u001b[0m\u001b[0;34m,\u001b[0m \u001b[0mstr1\u001b[0m\u001b[0;34m[\u001b[0m\u001b[0mi\u001b[0m\u001b[0;34m:\u001b[0m\u001b[0mi\u001b[0m\u001b[0;34m+\u001b[0m\u001b[0;36m2\u001b[0m\u001b[0;34m]\u001b[0m\u001b[0;34m.\u001b[0m\u001b[0mlower\u001b[0m\u001b[0;34m(\u001b[0m\u001b[0;34m)\u001b[0m\u001b[0;34m)\u001b[0m\u001b[0;34m:\u001b[0m\u001b[0;34m\u001b[0m\u001b[0;34m\u001b[0m\u001b[0m\n\u001b[1;32m      4\u001b[0m         \u001b[0mstr1s\u001b[0m\u001b[0;34m.\u001b[0m\u001b[0mappend\u001b[0m\u001b[0;34m(\u001b[0m\u001b[0mstr1\u001b[0m\u001b[0;34m[\u001b[0m\u001b[0mi\u001b[0m\u001b[0;34m:\u001b[0m\u001b[0mi\u001b[0m\u001b[0;34m+\u001b[0m\u001b[0;36m2\u001b[0m\u001b[0;34m]\u001b[0m\u001b[0;34m.\u001b[0m\u001b[0mlower\u001b[0m\u001b[0;34m(\u001b[0m\u001b[0;34m)\u001b[0m\u001b[0;34m)\u001b[0m\u001b[0;34m\u001b[0m\u001b[0;34m\u001b[0m\u001b[0m\n\u001b[1;32m      5\u001b[0m \u001b[0;34m\u001b[0m\u001b[0m\n",
            "\u001b[0;31mNameError\u001b[0m: name 'str1' is not defined"
          ]
        }
      ]
    },
    {
      "cell_type": "code",
      "metadata": {
        "id": "lXQrscVwLZ8A",
        "colab": {
          "base_uri": "https://localhost:8080/",
          "height": 134
        },
        "outputId": "7c3e758d-97ad-4c3b-a608-d662419d1f0d"
      },
      "source": [
        "return [(x,y,z)\r\n",
        "        for x in range(5)\r\n",
        "        for y in range(5)\r\n",
        "        if x != y\r\n",
        "        for z in rnage(5)\r\n",
        "        if y != z]\r\n",
        "\r\n",
        "# 여러 표현식을 여러 줄에 걸쳐 표현\r\n",
        "# 가독성 떨어짐"
      ],
      "execution_count": 67,
      "outputs": [
        {
          "output_type": "error",
          "ename": "SyntaxError",
          "evalue": "ignored",
          "traceback": [
            "\u001b[0;36m  File \u001b[0;32m\"<ipython-input-67-69b4b6ad36a5>\"\u001b[0;36m, line \u001b[0;32m1\u001b[0m\n\u001b[0;31m    return [(x,y,z)\u001b[0m\n\u001b[0m                   ^\u001b[0m\n\u001b[0;31mSyntaxError\u001b[0m\u001b[0;31m:\u001b[0m 'return' outside function\n"
          ]
        }
      ]
    },
    {
      "cell_type": "markdown",
      "metadata": {
        "id": "WaToYIAYLli3"
      },
      "source": [
        "## 구글 파이썬 스타일 가이드  \r\n",
        "### 95p~96p"
      ]
    },
    {
      "cell_type": "code",
      "metadata": {
        "id": "aazHYwHCLlRb",
        "colab": {
          "base_uri": "https://localhost:8080/",
          "height": 134
        },
        "outputId": "836b6227-a8e7-4d40-9984-54c5681512a9"
      },
      "source": [
        "# 파이썬 공식 가이드 PEP 외의 구글에서 지정한 스타일 가이드\r\n",
        "# 가독성을 높이기 위한 지침 있음\r\n",
        "\r\n",
        "# 기본 값으로 가변 객체를 사용하지 말 것\r\n",
        "# 함수가 객체를 수정하면 기본값이 변경되기 때문에\r\n",
        "No: def foo(a, b=[]):\r\n",
        "No: def foo(a, b: Mappong = {}):\r\n",
        "# 위와 같이 기본값으로 파이썬 공식 가이드 PEP 외의 구글에서 지정한 스타일 가이드\r\n",
        "# 가독성을 높이기 위한 지침 있음\r\n",
        "\r\n",
        "# 기본 값으로 가변 객체를 사용하지 말 것\r\n",
        "# 함수가 객체를 수정하면 기본값이 변경되기 때문에\r\n",
        "No: def foo(a, b=[]):\r\n",
        "No: def foo(a, b: Mappong = {}):\r\n",
        " 파이썬 공식 가이드 PEP 외의 구글에서 지정한 스타일 가이드\r\n",
        "# 가독성을 높이기 위한 지침 있음\r\n",
        "\r\n",
        "# 기본 값으로 가변 객체를 사용하지 말 것\r\n",
        "# 함수가 객체를 수정하면 기본값이 변경되기 때문에\r\n",
        "No: def foo(a, b=[]):\r\n",
        "No: def foo(a, b: Mappong = {}):\r\n",
        "# 위와 같이 기본값으로 []나 {}는 지양"
      ],
      "execution_count": 68,
      "outputs": [
        {
          "output_type": "error",
          "ename": "SyntaxError",
          "evalue": "ignored",
          "traceback": [
            "\u001b[0;36m  File \u001b[0;32m\"<ipython-input-68-d69da9486652>\"\u001b[0;36m, line \u001b[0;32m6\u001b[0m\n\u001b[0;31m    No: def foo(a, b=[]):\u001b[0m\n\u001b[0m          ^\u001b[0m\n\u001b[0;31mSyntaxError\u001b[0m\u001b[0;31m:\u001b[0m invalid syntax\n"
          ]
        }
      ]
    },
    {
      "cell_type": "code",
      "metadata": {
        "id": "ZW-KYX8XUwp-",
        "colab": {
          "base_uri": "https://localhost:8080/",
          "height": 134
        },
        "outputId": "20b8baab-44b8-4a88-d29d-9329d595cb6a"
      },
      "source": [
        "Yes: def foo(a, b=None):\r\n",
        "         if b is None:\r\n",
        "             b = []\r\n",
        "Yes: def foo(a, b: Optional[Sequence] = None):\r\n",
        "         if b is None:\r\n",
        "             b = []\r\n",
        "\r\n",
        "# 불변 객체를 사용\r\n",
        "# None을 명시적으로 할당"
      ],
      "execution_count": 69,
      "outputs": [
        {
          "output_type": "error",
          "ename": "SyntaxError",
          "evalue": "ignored",
          "traceback": [
            "\u001b[0;36m  File \u001b[0;32m\"<ipython-input-69-52d77efe9ebd>\"\u001b[0;36m, line \u001b[0;32m1\u001b[0m\n\u001b[0;31m    Yes: def foo(a, b=None):\u001b[0m\n\u001b[0m           ^\u001b[0m\n\u001b[0;31mSyntaxError\u001b[0m\u001b[0;31m:\u001b[0m invalid syntax\n"
          ]
        }
      ]
    },
    {
      "cell_type": "code",
      "metadata": {
        "id": "BYjKCdACVEKF",
        "colab": {
          "base_uri": "https://localhost:8080/",
          "height": 134
        },
        "outputId": "70abce4c-bdb4-425e-f4c3-c24be39c92ff"
      },
      "source": [
        "# True, False를 판별할 때는 암시적인 방법을 사용\r\n",
        "# F임을 표현할 때 if foo != []: 가 아닌 if foo: 로도 충분\r\n",
        "\r\n",
        "Yes: if not users:\r\n",
        "         print('no users')\r\n",
        "\r\n",
        "     if foo == 0:  # 비교대상 정수값을 직접 비교\r\n",
        "         self.handle_zero()\r\n",
        "\r\n",
        "     if i % 10 == 0:  # 명시적으로 값 비교\r\n",
        "         self.handle_multiple_of_ten()\r\n",
        "\r\n",
        "No: if len(users) == 0:  # 길이가 없음은 값이 없음을 의미, Yes의 not users로 충분\r\n",
        "        print('no users')\r\n",
        "\r\n",
        "    if foo is not None and not foo:  # 암시적 거짓 여부로 판별하는 것은 위험, 가독성 떨어짐\r\n",
        "        self.handle_zero()\r\n",
        "\r\n",
        "    if not i % 10:\r\n",
        "        self.handle_multiple_of_ten()\r\n",
        "\r\n",
        "# 이외에도 세미콜론으로 줄을 끝내서는 안 되며\r\n",
        "# 세미콜론을 이용해 같은 줄에 두 문장을 써서도 안 된다\r\n",
        "# 최대 줄 길이는 80자"
      ],
      "execution_count": 70,
      "outputs": [
        {
          "output_type": "error",
          "ename": "SyntaxError",
          "evalue": "ignored",
          "traceback": [
            "\u001b[0;36m  File \u001b[0;32m\"<ipython-input-70-9090cff7be6b>\"\u001b[0;36m, line \u001b[0;32m4\u001b[0m\n\u001b[0;31m    Yes: if not users:\u001b[0m\n\u001b[0m          ^\u001b[0m\n\u001b[0;31mSyntaxError\u001b[0m\u001b[0;31m:\u001b[0m invalid syntax\n"
          ]
        }
      ]
    },
    {
      "cell_type": "markdown",
      "metadata": {
        "id": "1UgOAD2FX-Wx"
      },
      "source": [
        "## 파이썬 철학  \r\n",
        "### 97p"
      ]
    },
    {
      "cell_type": "code",
      "metadata": {
        "colab": {
          "base_uri": "https://localhost:8080/"
        },
        "id": "PaRGken9XQzo",
        "outputId": "3c11e78d-1bfa-467a-ff15-53b22682c47c"
      },
      "source": [
        "import this"
      ],
      "execution_count": 71,
      "outputs": [
        {
          "output_type": "stream",
          "text": [
            "The Zen of Python, by Tim Peters\n",
            "\n",
            "Beautiful is better than ugly.\n",
            "Explicit is better than implicit.\n",
            "Simple is better than complex.\n",
            "Complex is better than complicated.\n",
            "Flat is better than nested.\n",
            "Sparse is better than dense.\n",
            "Readability counts.\n",
            "Special cases aren't special enough to break the rules.\n",
            "Although practicality beats purity.\n",
            "Errors should never pass silently.\n",
            "Unless explicitly silenced.\n",
            "In the face of ambiguity, refuse the temptation to guess.\n",
            "There should be one-- and preferably only one --obvious way to do it.\n",
            "Although that way may not be obvious at first unless you're Dutch.\n",
            "Now is better than never.\n",
            "Although never is often better than *right* now.\n",
            "If the implementation is hard to explain, it's a bad idea.\n",
            "If the implementation is easy to explain, it may be a good idea.\n",
            "Namespaces are one honking great idea -- let's do more of those!\n"
          ],
          "name": "stdout"
        }
      ]
    },
    {
      "cell_type": "markdown",
      "metadata": {
        "id": "pMxXYVOsYJws"
      },
      "source": [
        "## 빅오  \r\n",
        "### 102p"
      ]
    },
    {
      "cell_type": "code",
      "metadata": {
        "id": "dxhV0WLuYQfL"
      },
      "source": [
        "# 컴퓨터과학에서 빅오는 입력값이 커질 때 알고리즘의 실행 시간(시간 복잡도)와 함께\r\n",
        "# 공간 요구사항(공간 복잡도)이 어떻게 증가하는지 분류\r\n",
        "# 알고리즘 효율성 분석하는 데에 유용\r\n",
        "\r\n",
        "# 입력값이 무한대로 향할 때 함수의 상한을 설명하는 수학적 표기 방법\r\n",
        "# 점근적 실행 시간을 표기할 때 가장 널리 쓰이는 수학적 표기법 중 하나\r\n",
        "# 점근적 실행 시간: 입력값 n이 무한대로 향할 때 lim 함수의 실행 시간 추이\r\n",
        "# 복잡한 알고리즘도 입력값이 작으면 처리 빠름\r\n",
        "# 시간 복잡도: 어떤 알고리즘을 수행하는 데 걸리느 시간을 설명하는 계산 복잡도\r\n",
        "# 이 계산 복잡도를 표기하는 대표적 방법이 빅오\r\n",
        "\r\n",
        "# 최고차항만을 표기, 상수항은 무시\r\n",
        "# 4n^2+2n 이 있으면 n^2만을 고려\r\n",
        "\r\n",
        "# O(1) : 실행시간 입력값과 관계없이 일정\r\n",
        "# O(log n) : 크게 영향 받지 않고 견고. 이진 검색\r\n",
        "# O(n) : 입력값만큼 실행 간에 영향 받음, 선형 시간 알고리즘이라고 부름\r\n",
        "# O(n log n) : 병합 정렬을 비롯한 대부분의 효율 좋은 정렬 알고리즘.\r\n",
        "# O(n^2) : 버블 정렬 따위의 비효율적 정렬 알고리즘\r\n",
        "# O(2^n) : 피보나치 수를 재귀로 계산, n^2보다 훨씬 큼(복잡도 높음)\r\n",
        "# O(n!) : 각 도시를 방문하고 돌아오는 가장 짧은 경로를 찾는 외판원 문제를 브루트 포스로 풀이\r\n",
        "#         가장 느린 알고리즘"
      ],
      "execution_count": 72,
      "outputs": []
    },
    {
      "cell_type": "code",
      "metadata": {
        "colab": {
          "base_uri": "https://localhost:8080/"
        },
        "id": "xRDV53ZXbdeq",
        "outputId": "264d2da9-1fce-4be8-d6d1-ea31d2ab4901"
      },
      "source": [
        "for n in range(1, 15 + 1):\r\n",
        "  print(n, n ** 2, 2 ** n)\r\n",
        "\r\n",
        "# n^2과 2^n 차이"
      ],
      "execution_count": 73,
      "outputs": [
        {
          "output_type": "stream",
          "text": [
            "1 1 2\n",
            "2 4 4\n",
            "3 9 8\n",
            "4 16 16\n",
            "5 25 32\n",
            "6 36 64\n",
            "7 49 128\n",
            "8 64 256\n",
            "9 81 512\n",
            "10 100 1024\n",
            "11 121 2048\n",
            "12 144 4096\n",
            "13 169 8192\n",
            "14 196 16384\n",
            "15 225 32768\n"
          ],
          "name": "stdout"
        }
      ]
    },
    {
      "cell_type": "code",
      "metadata": {
        "id": "cLD_RsyNcStD"
      },
      "source": [
        "# 알고리즘은 시간과 공간이 트레이드오프 관계\r\n",
        "# 실행 시간이 빠르면 공간을 많이 차지, 공간을 적게 차지하면 실행시간이 느림"
      ],
      "execution_count": 74,
      "outputs": []
    },
    {
      "cell_type": "markdown",
      "metadata": {
        "id": "IRPRM228dM8F"
      },
      "source": [
        "## 자료형-숫자  \r\n",
        "### 108p"
      ]
    },
    {
      "cell_type": "code",
      "metadata": {
        "id": "czAAtE6ed_Id"
      },
      "source": [
        "# 파이썬에서는 정수형으로 int만을 제공\r\n",
        "# bool은 엄밀히 논리 자료형이나 파이썬 내부에서는 int의 서브클래스"
      ],
      "execution_count": 75,
      "outputs": []
    },
    {
      "cell_type": "code",
      "metadata": {
        "colab": {
          "base_uri": "https://localhost:8080/"
        },
        "id": "SM6GD-72dVSI",
        "outputId": "1be0aa4b-7797-4873-eb3f-3c960ffda3b0"
      },
      "source": [
        "True == 1"
      ],
      "execution_count": 76,
      "outputs": [
        {
          "output_type": "execute_result",
          "data": {
            "text/plain": [
              "True"
            ]
          },
          "metadata": {
            "tags": []
          },
          "execution_count": 76
        }
      ]
    },
    {
      "cell_type": "code",
      "metadata": {
        "colab": {
          "base_uri": "https://localhost:8080/"
        },
        "id": "KKGo3u-kdf1w",
        "outputId": "f23388d5-7d91-4e44-ac7a-82ffcf3944e4"
      },
      "source": [
        "False == 0"
      ],
      "execution_count": 77,
      "outputs": [
        {
          "output_type": "execute_result",
          "data": {
            "text/plain": [
              "True"
            ]
          },
          "metadata": {
            "tags": []
          },
          "execution_count": 77
        }
      ]
    },
    {
      "cell_type": "markdown",
      "metadata": {
        "id": "G-FEVKuCX3ZP"
      },
      "source": [
        "## 집합  \r\n",
        "### 110p~111p"
      ]
    },
    {
      "cell_type": "code",
      "metadata": {
        "id": "fy3TTa0cXSnU",
        "colab": {
          "base_uri": "https://localhost:8080/"
        },
        "outputId": "28fa40ee-3970-4e0f-b8c0-ffe857731234"
      },
      "source": [
        "a = set()\r\n",
        "a\r\n",
        "\r\n",
        "# 값이 포함된 집합은 a = {1,2,3} 형태로 선언\r\n",
        "# 딕셔너리와 동일하게 {} 사용하나 키/값 형태로 구분"
      ],
      "execution_count": 78,
      "outputs": [
        {
          "output_type": "execute_result",
          "data": {
            "text/plain": [
              "set()"
            ]
          },
          "metadata": {
            "tags": []
          },
          "execution_count": 78
        }
      ]
    },
    {
      "cell_type": "code",
      "metadata": {
        "colab": {
          "base_uri": "https://localhost:8080/"
        },
        "id": "VrICVjePe0zq",
        "outputId": "4745d779-aba8-4e04-b0aa-893532b1e1b3"
      },
      "source": [
        "type(a)"
      ],
      "execution_count": 79,
      "outputs": [
        {
          "output_type": "execute_result",
          "data": {
            "text/plain": [
              "set"
            ]
          },
          "metadata": {
            "tags": []
          },
          "execution_count": 79
        }
      ]
    },
    {
      "cell_type": "code",
      "metadata": {
        "colab": {
          "base_uri": "https://localhost:8080/"
        },
        "id": "cCeRUHO3fCsx",
        "outputId": "ff303842-722e-4bfd-c09f-18e85a50385c"
      },
      "source": [
        "a = {'a', 'b', 'c'}\r\n",
        "type(a)"
      ],
      "execution_count": 80,
      "outputs": [
        {
          "output_type": "execute_result",
          "data": {
            "text/plain": [
              "set"
            ]
          },
          "metadata": {
            "tags": []
          },
          "execution_count": 80
        }
      ]
    },
    {
      "cell_type": "code",
      "metadata": {
        "colab": {
          "base_uri": "https://localhost:8080/"
        },
        "id": "x2vWUlDhfexF",
        "outputId": "ab17596a-62a0-4d72-f827-ede3e9e3bf09"
      },
      "source": [
        "a = {'a':'A', 'b':'B', 'c':'C'}\r\n",
        "type(a)\r\n",
        "\r\n",
        "# 파이썬 컴파일러가 타입 자동 결정"
      ],
      "execution_count": 81,
      "outputs": [
        {
          "output_type": "execute_result",
          "data": {
            "text/plain": [
              "dict"
            ]
          },
          "metadata": {
            "tags": []
          },
          "execution_count": 81
        }
      ]
    },
    {
      "cell_type": "code",
      "metadata": {
        "colab": {
          "base_uri": "https://localhost:8080/"
        },
        "id": "bAkh5GvXfh3l",
        "outputId": "0b1f60a9-18af-4332-ec3b-57dec246bfe4"
      },
      "source": [
        "a = {3,2,3,5}\r\n",
        "a\r\n",
        "\r\n",
        "# set은 입력 순서 유지되지 않음, 중복된 값은 하나만 유지"
      ],
      "execution_count": 82,
      "outputs": [
        {
          "output_type": "execute_result",
          "data": {
            "text/plain": [
              "{2, 3, 5}"
            ]
          },
          "metadata": {
            "tags": []
          },
          "execution_count": 82
        }
      ]
    },
    {
      "cell_type": "markdown",
      "metadata": {
        "id": "iT6x0m-af1Z_"
      },
      "source": [
        "## 시퀀스  \r\n",
        "### 111p"
      ]
    },
    {
      "cell_type": "code",
      "metadata": {
        "colab": {
          "base_uri": "https://localhost:8080/"
        },
        "id": "Wxm9bwIefw2f",
        "outputId": "a2dd341d-f6bf-4d9a-edce-5e41f9fc3d31"
      },
      "source": [
        "# 우리말로 수열 같은 의미\r\n",
        "# 특정 대상의 순서 있는 나열\r\n",
        "# str은 문자의 순서 있는 나열\r\n",
        "# list는 다양한 값들을 배열 형태의 순서 있는 나열로 구성하는 자료형, 사실상 배열의 역할\r\n",
        "\r\n",
        "# 불변과 가변으로 분류정 대상의 순서 있는 나열\r\n",
        "# str은 문자의 순서 있는 나열\r\n",
        "# list는 다양한 값들을 배열 형태의 순서 있는 나열로 구성하는 자료형, 사실상 배열의 역할\r\n",
        "\r\n",
        "# 불변(str, tuple, bytes)과 가변으로 분류\r\n",
        "\r\n",
        "a = 'abc'\r\n",
        "a = 'def'\r\n",
        "type(a)\r\n",
        "\r\n",
        "# 변경된 것처럼 보이지만 아님"
      ],
      "execution_count": 83,
      "outputs": [
        {
          "output_type": "execute_result",
          "data": {
            "text/plain": [
              "str"
            ]
          },
          "metadata": {
            "tags": []
          },
          "execution_count": 83
        }
      ]
    },
    {
      "cell_type": "code",
      "metadata": {
        "colab": {
          "base_uri": "https://localhost:8080/"
        },
        "id": "t16r94ggjL3C",
        "outputId": "8f17cf3c-8765-44be-bcc0-55b65f2d0f38"
      },
      "source": [
        "a = 'abc'\r\n",
        "id('abc')"
      ],
      "execution_count": 84,
      "outputs": [
        {
          "output_type": "execute_result",
          "data": {
            "text/plain": [
              "140568005672048"
            ]
          },
          "metadata": {
            "tags": []
          },
          "execution_count": 84
        }
      ]
    },
    {
      "cell_type": "code",
      "metadata": {
        "colab": {
          "base_uri": "https://localhost:8080/"
        },
        "id": "yc-CQ_QujMp7",
        "outputId": "51b57f64-d985-4434-e90a-a0d3159a4126"
      },
      "source": [
        "id(a)"
      ],
      "execution_count": 85,
      "outputs": [
        {
          "output_type": "execute_result",
          "data": {
            "text/plain": [
              "140568005672048"
            ]
          },
          "metadata": {
            "tags": []
          },
          "execution_count": 85
        }
      ]
    },
    {
      "cell_type": "code",
      "metadata": {
        "colab": {
          "base_uri": "https://localhost:8080/"
        },
        "id": "93a3YekKjPfP",
        "outputId": "4aeaa3af-b4a9-462c-8433-6cbacf909948"
      },
      "source": [
        "a = 'def'\r\n",
        "id('def')"
      ],
      "execution_count": 86,
      "outputs": [
        {
          "output_type": "execute_result",
          "data": {
            "text/plain": [
              "140568004816688"
            ]
          },
          "metadata": {
            "tags": []
          },
          "execution_count": 86
        }
      ]
    },
    {
      "cell_type": "code",
      "metadata": {
        "colab": {
          "base_uri": "https://localhost:8080/"
        },
        "id": "Ol0Eez_YjlnH",
        "outputId": "10f63257-867a-4bfa-eaf7-a371fb0ab788"
      },
      "source": [
        "id(a)\r\n",
        "# 메모리에는 'abc'와 'def'에 각기 저장되어 있으나 a 변수가 어디를 참조하는지가 바뀜"
      ],
      "execution_count": 87,
      "outputs": [
        {
          "output_type": "execute_result",
          "data": {
            "text/plain": [
              "140568004816688"
            ]
          },
          "metadata": {
            "tags": []
          },
          "execution_count": 87
        }
      ]
    },
    {
      "cell_type": "code",
      "metadata": {
        "colab": {
          "base_uri": "https://localhost:8080/",
          "height": 222
        },
        "id": "zxjirHzTjntH",
        "outputId": "912be695-daa8-45ae-db59-f07d69025a8b"
      },
      "source": [
        "a[1] = 'd'\r\n",
        "\r\n",
        "# 각 원소에 엑세스할 수 없음\r\n",
        "# 정말 변경된다면 이 할당자가 처리되어야 함"
      ],
      "execution_count": 88,
      "outputs": [
        {
          "output_type": "error",
          "ename": "TypeError",
          "evalue": "ignored",
          "traceback": [
            "\u001b[0;31m---------------------------------------------------------------------------\u001b[0m",
            "\u001b[0;31mTypeError\u001b[0m                                 Traceback (most recent call last)",
            "\u001b[0;32m<ipython-input-88-7c61e418806d>\u001b[0m in \u001b[0;36m<module>\u001b[0;34m()\u001b[0m\n\u001b[0;32m----> 1\u001b[0;31m \u001b[0ma\u001b[0m\u001b[0;34m[\u001b[0m\u001b[0;36m1\u001b[0m\u001b[0;34m]\u001b[0m \u001b[0;34m=\u001b[0m \u001b[0;34m'd'\u001b[0m\u001b[0;34m\u001b[0m\u001b[0;34m\u001b[0m\u001b[0m\n\u001b[0m\u001b[1;32m      2\u001b[0m \u001b[0;34m\u001b[0m\u001b[0m\n\u001b[1;32m      3\u001b[0m \u001b[0;31m# 각 원소에 엑세스할 수 없음\u001b[0m\u001b[0;34m\u001b[0m\u001b[0;34m\u001b[0m\u001b[0;34m\u001b[0m\u001b[0m\n\u001b[1;32m      4\u001b[0m \u001b[0;31m# 정말 변경된다면 이 할당자가 처리되어야 함\u001b[0m\u001b[0;34m\u001b[0m\u001b[0;34m\u001b[0m\u001b[0;34m\u001b[0m\u001b[0m\n",
            "\u001b[0;31mTypeError\u001b[0m: 'str' object does not support item assignment"
          ]
        }
      ]
    },
    {
      "cell_type": "markdown",
      "metadata": {
        "id": "NM4MXBnqk7TI"
      },
      "source": [
        "## 불변 객체  \r\n",
        "### 116p"
      ]
    },
    {
      "cell_type": "code",
      "metadata": {
        "colab": {
          "base_uri": "https://localhost:8080/"
        },
        "id": "jqDj1F5AkIHq",
        "outputId": "0cb05868-bdd6-434b-e793-22950beac0db"
      },
      "source": [
        "# 파이썬은 모든 것이 객체\r\n",
        "# 변수를 할당하는 것은 해당 객체를 변수가 참조한다는 것\r\n",
        "# 문자와 숫자도 모두 객체이나 이 둘은 불변 객체\r\n",
        "\r\n",
        "10\r\n",
        "a = 10\r\n",
        "b = a\r\n",
        "id(10), id(a), id(b)\r\n",
        "\r\n",
        "# 모두 원시 타입이라면 id 달라야 하는데 모두 같다.\r\n",
        "# 10이 11로 바뀌는 일은 없고, a가 11이 된다면 그냥 더이상 10을 참조하지 않을 뿐이다\r\n",
        "# 문자와 숫자, tuple은 불변이라 dict다의 key나 set의 값으로 사용 가능하다\r\n",
        "# list는 언제든 값이 변할 수 있으므로 안 됨"
      ],
      "execution_count": 89,
      "outputs": [
        {
          "output_type": "execute_result",
          "data": {
            "text/plain": [
              "(93918995692320, 93918995692320, 93918995692320)"
            ]
          },
          "metadata": {
            "tags": []
          },
          "execution_count": 89
        }
      ]
    },
    {
      "cell_type": "markdown",
      "metadata": {
        "id": "J--WC-bYl_-2"
      },
      "source": [
        "## 가변 객체  \r\n",
        "### 116p~117p"
      ]
    },
    {
      "cell_type": "code",
      "metadata": {
        "colab": {
          "base_uri": "https://localhost:8080/"
        },
        "id": "ejuuUhEjlRt_",
        "outputId": "7d227cbc-6509-49e8-e23e-1600c82b859f"
      },
      "source": [
        "a = [1, 2, 3, 4, 5]\r\n",
        "b = a\r\n",
        "b"
      ],
      "execution_count": 90,
      "outputs": [
        {
          "output_type": "execute_result",
          "data": {
            "text/plain": [
              "[1, 2, 3, 4, 5]"
            ]
          },
          "metadata": {
            "tags": []
          },
          "execution_count": 90
        }
      ]
    },
    {
      "cell_type": "code",
      "metadata": {
        "colab": {
          "base_uri": "https://localhost:8080/"
        },
        "id": "scCHE79NmOsg",
        "outputId": "c34e216e-becd-465a-b1cc-2c2da71be5dc"
      },
      "source": [
        "a[2] = 4\r\n",
        "a"
      ],
      "execution_count": 91,
      "outputs": [
        {
          "output_type": "execute_result",
          "data": {
            "text/plain": [
              "[1, 2, 4, 4, 5]"
            ]
          },
          "metadata": {
            "tags": []
          },
          "execution_count": 91
        }
      ]
    },
    {
      "cell_type": "code",
      "metadata": {
        "colab": {
          "base_uri": "https://localhost:8080/"
        },
        "id": "JIaY8qyKmRWV",
        "outputId": "a7c4852b-7d56-4186-94c7-e8a24d346f59"
      },
      "source": [
        "b\r\n",
        "\r\n",
        "# 변수 a로써 list에 엑세스해 값을 변경할 수 있음"
      ],
      "execution_count": 92,
      "outputs": [
        {
          "output_type": "execute_result",
          "data": {
            "text/plain": [
              "[1, 2, 4, 4, 5]"
            ]
          },
          "metadata": {
            "tags": []
          },
          "execution_count": 92
        }
      ]
    },
    {
      "cell_type": "code",
      "metadata": {
        "colab": {
          "base_uri": "https://localhost:8080/"
        },
        "id": "K23kwGm5mVdV",
        "outputId": "818d86e5-ef4f-4928-a4b2-28f63008713f"
      },
      "source": [
        "a = 10\r\n",
        "b = a\r\n",
        "id(a), id(b)"
      ],
      "execution_count": 93,
      "outputs": [
        {
          "output_type": "execute_result",
          "data": {
            "text/plain": [
              "(93918995692320, 93918995692320)"
            ]
          },
          "metadata": {
            "tags": []
          },
          "execution_count": 93
        }
      ]
    },
    {
      "cell_type": "code",
      "metadata": {
        "colab": {
          "base_uri": "https://localhost:8080/"
        },
        "id": "CsIoNqeFnDAG",
        "outputId": "650f35c3-88c9-4e20-84c7-910123feb8a6"
      },
      "source": [
        "b = 7\r\n",
        "a, id(a), id(b)"
      ],
      "execution_count": 94,
      "outputs": [
        {
          "output_type": "execute_result",
          "data": {
            "text/plain": [
              "(10, 93918995692320, 93918995692224)"
            ]
          },
          "metadata": {
            "tags": []
          },
          "execution_count": 94
        }
      ]
    },
    {
      "cell_type": "code",
      "metadata": {
        "id": "ZPJAWvIOnIwf"
      },
      "source": [
        "a = [1, 2, 3]\r\n",
        "b = a"
      ],
      "execution_count": 95,
      "outputs": []
    },
    {
      "cell_type": "code",
      "metadata": {
        "colab": {
          "base_uri": "https://localhost:8080/"
        },
        "id": "4bLIJE_onT6H",
        "outputId": "93756a11-95ca-47c2-a9fb-c90df4cce974"
      },
      "source": [
        "id(a), id(b)"
      ],
      "execution_count": 96,
      "outputs": [
        {
          "output_type": "execute_result",
          "data": {
            "text/plain": [
              "(140567414869520, 140567414869520)"
            ]
          },
          "metadata": {
            "tags": []
          },
          "execution_count": 96
        }
      ]
    },
    {
      "cell_type": "code",
      "metadata": {
        "colab": {
          "base_uri": "https://localhost:8080/"
        },
        "id": "xQA_QmhPnZC-",
        "outputId": "16af11e5-6cc5-4a58-ab75-af07d40e7585"
      },
      "source": [
        "b[2] = 5\r\n",
        "a, id(a), id(b)"
      ],
      "execution_count": 97,
      "outputs": [
        {
          "output_type": "execute_result",
          "data": {
            "text/plain": [
              "([1, 2, 5], 140567414869520, 140567414869520)"
            ]
          },
          "metadata": {
            "tags": []
          },
          "execution_count": 97
        }
      ]
    },
    {
      "cell_type": "markdown",
      "metadata": {
        "id": "Q-5MLDMcnq2E"
      },
      "source": [
        "## is와 ==  \r\n",
        "### 118p"
      ]
    },
    {
      "cell_type": "code",
      "metadata": {
        "id": "BxCA_VxRnh2c"
      },
      "source": [
        "# is는 id()값을 비교하는 함수\r\n",
        "\r\n",
        "if a is None:\r\n",
        "    pass\r\n",
        "\r\n",
        "# None은 null로 값 자체가 정의되지 않으므로 ==로 비교할 수 없음"
      ],
      "execution_count": 98,
      "outputs": []
    },
    {
      "cell_type": "code",
      "metadata": {
        "colab": {
          "base_uri": "https://localhost:8080/"
        },
        "id": "qhLAOkG9n_y1",
        "outputId": "add8deae-3320-47b2-ff53-3ede38506dfa"
      },
      "source": [
        "a = [1, 2, 3]\r\n",
        "a == a"
      ],
      "execution_count": 99,
      "outputs": [
        {
          "output_type": "execute_result",
          "data": {
            "text/plain": [
              "True"
            ]
          },
          "metadata": {
            "tags": []
          },
          "execution_count": 99
        }
      ]
    },
    {
      "cell_type": "code",
      "metadata": {
        "colab": {
          "base_uri": "https://localhost:8080/"
        },
        "id": "sp0Wb7eho4ui",
        "outputId": "73008f9a-6ee0-4cbe-d7bb-f4613606bc31"
      },
      "source": [
        "a == list(a)"
      ],
      "execution_count": 100,
      "outputs": [
        {
          "output_type": "execute_result",
          "data": {
            "text/plain": [
              "True"
            ]
          },
          "metadata": {
            "tags": []
          },
          "execution_count": 100
        }
      ]
    },
    {
      "cell_type": "code",
      "metadata": {
        "colab": {
          "base_uri": "https://localhost:8080/"
        },
        "id": "UDMCn7nQo9Uu",
        "outputId": "95441572-846e-4f31-ca0a-df840be5526e"
      },
      "source": [
        "a is a"
      ],
      "execution_count": 101,
      "outputs": [
        {
          "output_type": "execute_result",
          "data": {
            "text/plain": [
              "True"
            ]
          },
          "metadata": {
            "tags": []
          },
          "execution_count": 101
        }
      ]
    },
    {
      "cell_type": "code",
      "metadata": {
        "colab": {
          "base_uri": "https://localhost:8080/"
        },
        "id": "Hibq6IcAo-fY",
        "outputId": "ca7a13ae-a722-4b27-dbab-7025f15dd63d"
      },
      "source": [
        "a is list(a)\r\n",
        "\r\n",
        "# 값은 동일하지만 list()로 한 번 더 묶어주면 별도의 객체로 복사됨\r\n",
        "# 즉 id가 다름"
      ],
      "execution_count": 102,
      "outputs": [
        {
          "output_type": "execute_result",
          "data": {
            "text/plain": [
              "False"
            ]
          },
          "metadata": {
            "tags": []
          },
          "execution_count": 102
        }
      ]
    },
    {
      "cell_type": "code",
      "metadata": {
        "colab": {
          "base_uri": "https://localhost:8080/"
        },
        "id": "lue1FhbLpE97",
        "outputId": "c52e4602-a4a9-4ef5-f9c3-1ce557d8e7e1"
      },
      "source": [
        "import copy\r\n",
        "a = [1,2,3]\r\n",
        "a == copy.deepcopy(a)"
      ],
      "execution_count": 103,
      "outputs": [
        {
          "output_type": "execute_result",
          "data": {
            "text/plain": [
              "True"
            ]
          },
          "metadata": {
            "tags": []
          },
          "execution_count": 103
        }
      ]
    },
    {
      "cell_type": "code",
      "metadata": {
        "colab": {
          "base_uri": "https://localhost:8080/"
        },
        "id": "flkHCC_RpToR",
        "outputId": "20a7b3b5-12ab-4de4-e0fe-5483d5a5d24b"
      },
      "source": [
        "a is copy.deepcopy(a)\r\n",
        "\r\n",
        "# deepcopy도 값은 같으나 id가 다름"
      ],
      "execution_count": 104,
      "outputs": [
        {
          "output_type": "execute_result",
          "data": {
            "text/plain": [
              "False"
            ]
          },
          "metadata": {
            "tags": []
          },
          "execution_count": 104
        }
      ]
    }
  ]
}